{
  "nbformat": 4,
  "nbformat_minor": 0,
  "metadata": {
    "colab": {
      "name": "PPI_Intro2DeepLearning.ipynb",
      "provenance": [],
      "collapsed_sections": [],
      "machine_shape": "hm",
      "authorship_tag": "ABX9TyOthNpVJd2JtkbIw0LNhmND",
      "include_colab_link": true
    },
    "kernelspec": {
      "name": "python3",
      "display_name": "Python 3"
    },
    "accelerator": "TPU"
  },
  "cells": [
    {
      "cell_type": "markdown",
      "metadata": {
        "id": "view-in-github",
        "colab_type": "text"
      },
      "source": [
        "<a href=\"https://colab.research.google.com/github/samsledje/Deep_PPI/blob/master/PPI_Intro2DeepLearning.ipynb\" target=\"_parent\"><img src=\"https://colab.research.google.com/assets/colab-badge.svg\" alt=\"Open In Colab\"/></a>"
      ]
    },
    {
      "cell_type": "code",
      "metadata": {
        "id": "ULSRc0P7wD_D",
        "colab_type": "code",
        "outputId": "e518583f-ae23-4b54-ab4c-63c10fe50c88",
        "colab": {
          "base_uri": "https://localhost:8080/",
          "height": 34
        }
      },
      "source": [
        "# Import Tensorflow 2.0\n",
        "%tensorflow_version 2.x\n",
        "import tensorflow as tf\n",
        "\n",
        "import IPython\n",
        "import functools\n",
        "import matplotlib.pyplot as plt\n",
        "import numpy as np\n",
        "import pandas as pd\n",
        "import gzip as gz\n",
        "from tqdm import tqdm"
      ],
      "execution_count": 3,
      "outputs": [
        {
          "output_type": "stream",
          "text": [
            "TensorFlow 2.x selected.\n"
          ],
          "name": "stdout"
        }
      ]
    },
    {
      "cell_type": "markdown",
      "metadata": {
        "id": "EOweuApnaY9D",
        "colab_type": "text"
      },
      "source": [
        "# Data\n",
        "\n",
        "This data comes from the [STRING](https://string-db.org/) protein interaction database. We download only human protein-protein interactions, although with enough storage, memory, and time we could train on all interactions in the database. "
      ]
    },
    {
      "cell_type": "code",
      "metadata": {
        "id": "BG9TrOO0-AKg",
        "colab_type": "code",
        "outputId": "34333ebf-705e-4146-8e91-fd9db39ddaa5",
        "colab": {
          "base_uri": "https://localhost:8080/",
          "height": 578
        }
      },
      "source": [
        "!wget https://stringdb-static.org/download/protein.links.detailed.v11.0/9606.protein.links.detailed.v11.0.txt.gz\n",
        "!wget https://stringdb-static.org/download/protein.sequences.v11.0/9606.protein.sequences.v11.0.fa.gz\n",
        "!wget https://stringdb-static.org/download/protein.info.v11.0/9606.protein.info.v11.0.txt.gz"
      ],
      "execution_count": 0,
      "outputs": [
        {
          "output_type": "stream",
          "text": [
            "--2020-01-30 14:18:25--  https://stringdb-static.org/download/protein.links.detailed.v11.0/9606.protein.links.detailed.v11.0.txt.gz\n",
            "Resolving stringdb-static.org (stringdb-static.org)... 104.26.10.133, 104.26.11.133, 2606:4700:20::681a:a85, ...\n",
            "Connecting to stringdb-static.org (stringdb-static.org)|104.26.10.133|:443... connected.\n",
            "HTTP request sent, awaiting response... 200 OK\n",
            "Length: 110085813 (105M) [application/x-gzip]\n",
            "Saving to: ‘9606.protein.links.detailed.v11.0.txt.gz’\n",
            "\n",
            "9606.protein.links. 100%[===================>] 104.99M  18.4MB/s    in 6.4s    \n",
            "\n",
            "2020-01-30 14:18:31 (16.4 MB/s) - ‘9606.protein.links.detailed.v11.0.txt.gz’ saved [110085813/110085813]\n",
            "\n",
            "--2020-01-30 14:18:32--  https://stringdb-static.org/download/protein.sequences.v11.0/9606.protein.sequences.v11.0.fa.gz\n",
            "Resolving stringdb-static.org (stringdb-static.org)... 104.26.10.133, 104.26.11.133, 2606:4700:20::681a:a85, ...\n",
            "Connecting to stringdb-static.org (stringdb-static.org)|104.26.10.133|:443... connected.\n",
            "HTTP request sent, awaiting response... 200 OK\n",
            "Length: 6706087 (6.4M) [application/x-gzip]\n",
            "Saving to: ‘9606.protein.sequences.v11.0.fa.gz’\n",
            "\n",
            "9606.protein.sequen 100%[===================>]   6.39M  6.48MB/s    in 1.0s    \n",
            "\n",
            "2020-01-30 14:18:33 (6.48 MB/s) - ‘9606.protein.sequences.v11.0.fa.gz’ saved [6706087/6706087]\n",
            "\n",
            "--2020-01-30 14:18:35--  https://stringdb-static.org/download/protein.info.v11.0/9606.protein.info.v11.0.txt.gz\n",
            "Resolving stringdb-static.org (stringdb-static.org)... 104.26.10.133, 104.26.11.133, 2606:4700:20::681a:a85, ...\n",
            "Connecting to stringdb-static.org (stringdb-static.org)|104.26.10.133|:443... connected.\n",
            "HTTP request sent, awaiting response... 200 OK\n",
            "Length: 1894048 (1.8M) [application/x-gzip]\n",
            "Saving to: ‘9606.protein.info.v11.0.txt.gz’\n",
            "\n",
            "9606.protein.info.v 100%[===================>]   1.81M  2.55MB/s    in 0.7s    \n",
            "\n",
            "2020-01-30 14:18:36 (2.55 MB/s) - ‘9606.protein.info.v11.0.txt.gz’ saved [1894048/1894048]\n",
            "\n"
          ],
          "name": "stdout"
        }
      ]
    },
    {
      "cell_type": "code",
      "metadata": {
        "colab_type": "code",
        "outputId": "1d0b7b7d-4148-4939-8133-6af63499c4f9",
        "id": "GZ-4NfDNv_92",
        "colab": {
          "base_uri": "https://localhost:8080/",
          "height": 122
        }
      },
      "source": [
        "from google.colab import drive\n",
        "drive.mount('/content/drive')\n",
        "DRIVE_HOME = \"/content/drive/My Drive/PhD/PPI_DL\""
      ],
      "execution_count": 5,
      "outputs": [
        {
          "output_type": "stream",
          "text": [
            "Go to this URL in a browser: https://accounts.google.com/o/oauth2/auth?client_id=947318989803-6bn6qk8qdgf4n4g3pfee6491hc0brc4i.apps.googleusercontent.com&redirect_uri=urn%3aietf%3awg%3aoauth%3a2.0%3aoob&response_type=code&scope=email%20https%3a%2f%2fwww.googleapis.com%2fauth%2fdocs.test%20https%3a%2f%2fwww.googleapis.com%2fauth%2fdrive%20https%3a%2f%2fwww.googleapis.com%2fauth%2fdrive.photos.readonly%20https%3a%2f%2fwww.googleapis.com%2fauth%2fpeopleapi.readonly\n",
            "\n",
            "Enter your authorization code:\n",
            "··········\n",
            "Mounted at /content/drive\n"
          ],
          "name": "stdout"
        }
      ]
    },
    {
      "cell_type": "code",
      "metadata": {
        "id": "--T4CVAWgQY3",
        "colab_type": "code",
        "colab": {}
      },
      "source": [
        "!mv 9606.protein.links.detailed.v11.0.txt.gz /content/drive/My\\ Drive/PhD/PPI_DL\n",
        "!mv 9606.protein.sequences.v11.0.fa.gz /content/drive/My\\ Drive/PhD/PPI_DL\n",
        "!mv 9606.protein.info.v11.0.txt.gz /content/drive/My\\ Drive/PhD/PPI_DL"
      ],
      "execution_count": 0,
      "outputs": []
    },
    {
      "cell_type": "code",
      "metadata": {
        "id": "FKVdvYQA-ZQX",
        "colab_type": "code",
        "colab": {}
      },
      "source": [
        "LINKS_FILE = f\"{DRIVE_HOME}/9606.protein.links.detailed.v11.0.txt.gz\"\n",
        "SEQ_FILE = f\"{DRIVE_HOME}/9606.protein.sequences.v11.0.fa.gz\"\n",
        "INFO_FILE = f\"{DRIVE_HOME}/9606.protein.info.v11.0.txt.gz\""
      ],
      "execution_count": 0,
      "outputs": []
    },
    {
      "cell_type": "code",
      "metadata": {
        "id": "wmew41zP_LHU",
        "colab_type": "code",
        "colab": {}
      },
      "source": [
        "def read_fasta(fasta_file,comment=\"#\"):\n",
        "     with gz.open(fasta_file,\"r\") as f:\n",
        "         names = []\n",
        "         sequences = []\n",
        "         name = None\n",
        "         sequence = []\n",
        "         for line in f:\n",
        "             line = line.decode('utf-8')\n",
        "             if line.startswith(comment):\n",
        "                 continue\n",
        "             line = line.strip()\n",
        "             if line.startswith('>'):\n",
        "                 if name is not None:\n",
        "                     names.append(name)\n",
        "                     sequences.append(''.join(sequence))\n",
        "                 name = line[1:]\n",
        "                 sequence = []\n",
        "             else:\n",
        "                 sequence.append(line.upper())\n",
        "         if name is not None:\n",
        "             names.append(name)\n",
        "             sequences.append(''.join(sequence))\n",
        " \n",
        "         return list(zip(names, sequences))\n",
        "\n",
        "def encode_AC(sequence):\n",
        "  alphabet = \"ACDEFGHIKLMNPQRSTVWY\"\n",
        "  chem_props = np.array([0.62, -0.5,0.007187,8.1,0.046,1.181,27.5,0.29,-1,-0.03661,5.5,0.128,1.461,44.6,-0.9,3,-0.02382,13,0.105,1.587,40,-0.74,3,0.006802,12.3,0.151,1.862,62,1.19,-2.5,0.037552,5.2,0.29,2.228,115.5,0.48,0,0.179052,9,0,0.881,0,-0.4,-0.5,-0.01069,10.4,0.23,2.025,79,1.38,-1.8,0.021631,5.2,0.186,1.81,93.5,-1.5,3,0.017708,11.3,0.219,2.258,100,1.06,-1.8,0.051672,4.9,0.186,1.931,93.5,0.64,-1.3,0.002683,5.7,0.221,2.034,94.1,-0.78,2,0.005392,11.6,0.134,1.655,58.7,0.12,0,0.239531,8,0.131,1.468,41.9,-0.85,0.2,0.049211,10.5,0.18,1.932,80.7,-2.53,3,0.043587,10.5,0.291,2.56,105,-0.18,0.3,0.004627,9.2,0.062,1.298,29.3,-0.05,-0.4,0.003352,8.6,0.108,1.525,51.3,1.08,-1.5,0.057004,5.9,0.14,1.645,71.5,0.81,-3.4,0.037977,5.4,0.409,2.663,145.5,0.26,-2.3,117.3,6.2,0.298,2.368,0.023599])\n",
        "  chem_props = chem_props.reshape(len(alphabet),7)\n",
        "\n",
        "  return np.array([chem_props[alphabet.index(c.upper())] for c in sequence])\n",
        "\n",
        "def encode_CT(sequence):\n",
        "  encoding = {\n",
        "      \"A\": 1,\n",
        "      \"G\": 1,\n",
        "      \"V\": 1,\n",
        "      \"I\": 2,\n",
        "      \"L\": 2,\n",
        "      \"F\": 2,\n",
        "      \"P\": 2,\n",
        "      \"Y\": 3,\n",
        "      \"M\": 3,\n",
        "      \"T\": 3,\n",
        "      \"S\": 3,\n",
        "      \"H\": 4,\n",
        "      \"N\": 4,\n",
        "      \"Q\": 4,\n",
        "      \"W\": 4,\n",
        "      \"R\": 5,\n",
        "      \"K\": 5,\n",
        "      \"O\": 5,\n",
        "      \"D\": 6,\n",
        "      \"U\": 6,\n",
        "      \"E\": 6,\n",
        "      \"C\": 7,\n",
        "      \"X\": 8,\n",
        "      \"B\": 8,\n",
        "      \"Z\": 8\n",
        "  }\n",
        "  nums = np.array([encoding[c.upper()] for c in sequence])\n",
        "  return nums\n"
      ],
      "execution_count": 0,
      "outputs": []
    },
    {
      "cell_type": "markdown",
      "metadata": {
        "id": "XsKU0FMgaLST",
        "colab_type": "text"
      },
      "source": [
        "# Compact Encoding of Proteins using Autoencoder LSTM"
      ]
    },
    {
      "cell_type": "code",
      "metadata": {
        "id": "dDVw6Z02-l9-",
        "colab_type": "code",
        "colab": {}
      },
      "source": [
        "links = pd.read_csv(LINKS_FILE,sep=\" \",compression=\"gzip\")\n",
        "info = pd.read_csv(INFO_FILE,sep=\"\\t\",compression=\"gzip\")\n",
        "seqs = pd.DataFrame(read_fasta(SEQ_FILE),columns=['protein_external_id','sequence'])\n",
        "proteins = proteins.set_index('protein_external_id')\n",
        "proteins = pd.merge(info,seqs,on='protein_external_id')\n",
        "\n"
      ],
      "execution_count": 0,
      "outputs": []
    },
    {
      "cell_type": "code",
      "metadata": {
        "id": "jWh9KAB9Xk1a",
        "colab_type": "code",
        "colab": {}
      },
      "source": [
        "TRAINING_SIZE = 1000\n",
        "\n",
        "prots_training = proteins.iloc[:TRAINING_SIZE,:]\n",
        "seqs_training = prots_training['sequence']"
      ],
      "execution_count": 0,
      "outputs": []
    },
    {
      "cell_type": "code",
      "metadata": {
        "id": "RuIRWLnlJAwM",
        "colab_type": "code",
        "colab": {}
      },
      "source": [
        "seqs_CT = tf.keras.preprocessing.sequence.pad_sequences([encode_CT(s) for s in seqs_training])"
      ],
      "execution_count": 0,
      "outputs": []
    },
    {
      "cell_type": "code",
      "metadata": {
        "id": "dz7VKqjyL21k",
        "colab_type": "code",
        "colab": {}
      },
      "source": [
        "X_train = seqs_CT.reshape((seqs_CT.shape[0], seqs_CT.shape[1], 1))"
      ],
      "execution_count": 0,
      "outputs": []
    },
    {
      "cell_type": "code",
      "metadata": {
        "id": "x9qpzRaldgE_",
        "colab_type": "code",
        "colab": {}
      },
      "source": [
        "def build_autoencoders(input_size, input_features, encoded_size):\n",
        "\n",
        "  input_seq = tf.keras.layers.Input(shape=(input_size,input_features))\n",
        "  encoded = tf.keras.Sequential([\n",
        "          tf.keras.layers.LSTM(encoded_size*2, activation='relu', input_shape=(input_size,input_features,)),\n",
        "          tf.keras.layers.Dense(encoded_size)\n",
        "  ])(input_seq)                  \n",
        "                                 \n",
        "  decoded = tf.keras.Sequential([\n",
        "          tf.keras.layers.RepeatVector(input_size),\n",
        "          tf.keras.layers.Dense(encoded_size*2),\n",
        "          tf.keras.layers.LSTM(encoded_size, activation=\"relu\", return_sequences=True),\n",
        "          tf.keras.layers.TimeDistributed(tf.keras.layers.Dense(input_features))\n",
        "  ])(encoded)\n",
        "\n",
        "  autoencoder = tf.keras.Model(input_seq,decoded)\n",
        "  encoder = tf.keras.Model(input_seq,encoded)\n",
        "\n",
        "  autoencoder.compile(optimizer='adam', loss='binary_crossentropy')\n",
        "  encoder.compile(optimizer='adam', loss='binary_crossentropy')\n",
        "\n",
        "  return autoencoder, encoder"
      ],
      "execution_count": 0,
      "outputs": []
    },
    {
      "cell_type": "code",
      "metadata": {
        "id": "jD5kae1_NnmO",
        "colab_type": "code",
        "colab": {}
      },
      "source": [
        "autoencoder, encoder = build_autoencoders(X_train.shape[1], X_train.shape[2], 128)"
      ],
      "execution_count": 0,
      "outputs": []
    },
    {
      "cell_type": "code",
      "metadata": {
        "id": "tM9xIoZjOeFt",
        "colab_type": "code",
        "outputId": "a53522c1-c55f-465b-8005-ffc3866dceea",
        "colab": {
          "base_uri": "https://localhost:8080/",
          "height": 221
        }
      },
      "source": [
        "EPOCHS = 5\n",
        "BATCH_SIZE = 32\n",
        "\n",
        "autoencoder.fit(X_train, X_train,epochs=EPOCHS, batch_size=BATCH_SIZE, verbose=1)"
      ],
      "execution_count": 0,
      "outputs": [
        {
          "output_type": "stream",
          "text": [
            "Train on 1000 samples\n",
            "Epoch 1/5\n",
            "1000/1000 [==============================] - 289s 289ms/sample - loss: 6.7781\n",
            "Epoch 2/5\n",
            "1000/1000 [==============================] - 288s 288ms/sample - loss: 6.7781\n",
            "Epoch 3/5\n",
            "1000/1000 [==============================] - 286s 286ms/sample - loss: 6.7781\n",
            "Epoch 4/5\n",
            "1000/1000 [==============================] - 287s 287ms/sample - loss: 6.7781\n",
            "Epoch 5/5\n",
            "1000/1000 [==============================] - 283s 283ms/sample - loss: 6.7781\n"
          ],
          "name": "stdout"
        },
        {
          "output_type": "execute_result",
          "data": {
            "text/plain": [
              "<tensorflow.python.keras.callbacks.History at 0x7f8a6e4d5f28>"
            ]
          },
          "metadata": {
            "tags": []
          },
          "execution_count": 190
        }
      ]
    },
    {
      "cell_type": "code",
      "metadata": {
        "id": "4NkYaisC2azb",
        "colab_type": "code",
        "colab": {}
      },
      "source": [
        "encoder.save(f\"{DRIVE_HOME}/encoder.h5\")\n",
        "autoencoder.save(f\"{DRIVE_HOME}/autoencoder.h5\")"
      ],
      "execution_count": 0,
      "outputs": []
    },
    {
      "cell_type": "markdown",
      "metadata": {
        "id": "5yVuwmEiZXQ3",
        "colab_type": "text"
      },
      "source": [
        "# PPI Prediction from Encoded Proteins\n",
        "\n",
        "Now that we have trained an encoder that can produce low-dimensional representations of proteins, we can use these low-dimensional representations for the prediction task.\n",
        "\n",
        "Given two proteins, we will first encode each protein into a length 128 vector. We can then create an \"image\" for the protein interaction by taking the outer product of the two vectors. This allows us to represent not only local but distant interactions that may occur after protein folding."
      ]
    },
    {
      "cell_type": "code",
      "metadata": {
        "id": "TMJXK3CGMTcT",
        "colab_type": "code",
        "colab": {}
      },
      "source": [
        "encoder = tf.keras.models.load_model(f\"{DRIVE_HOME}/encoder.h5\")"
      ],
      "execution_count": 0,
      "outputs": []
    },
    {
      "cell_type": "code",
      "metadata": {
        "id": "d56TeHoSd-vH",
        "colab_type": "code",
        "outputId": "5a8f1b50-5b2e-49bc-dc92-2a92e7e5a4b3",
        "colab": {
          "base_uri": "https://localhost:8080/",
          "height": 419
        }
      },
      "source": [
        "links[['protein1','protein2']]"
      ],
      "execution_count": 0,
      "outputs": [
        {
          "output_type": "execute_result",
          "data": {
            "text/html": [
              "<div>\n",
              "<style scoped>\n",
              "    .dataframe tbody tr th:only-of-type {\n",
              "        vertical-align: middle;\n",
              "    }\n",
              "\n",
              "    .dataframe tbody tr th {\n",
              "        vertical-align: top;\n",
              "    }\n",
              "\n",
              "    .dataframe thead th {\n",
              "        text-align: right;\n",
              "    }\n",
              "</style>\n",
              "<table border=\"1\" class=\"dataframe\">\n",
              "  <thead>\n",
              "    <tr style=\"text-align: right;\">\n",
              "      <th></th>\n",
              "      <th>protein1</th>\n",
              "      <th>protein2</th>\n",
              "    </tr>\n",
              "  </thead>\n",
              "  <tbody>\n",
              "    <tr>\n",
              "      <th>0</th>\n",
              "      <td>9606.ENSP00000000233</td>\n",
              "      <td>9606.ENSP00000272298</td>\n",
              "    </tr>\n",
              "    <tr>\n",
              "      <th>1</th>\n",
              "      <td>9606.ENSP00000000233</td>\n",
              "      <td>9606.ENSP00000253401</td>\n",
              "    </tr>\n",
              "    <tr>\n",
              "      <th>2</th>\n",
              "      <td>9606.ENSP00000000233</td>\n",
              "      <td>9606.ENSP00000401445</td>\n",
              "    </tr>\n",
              "    <tr>\n",
              "      <th>3</th>\n",
              "      <td>9606.ENSP00000000233</td>\n",
              "      <td>9606.ENSP00000418915</td>\n",
              "    </tr>\n",
              "    <tr>\n",
              "      <th>4</th>\n",
              "      <td>9606.ENSP00000000233</td>\n",
              "      <td>9606.ENSP00000327801</td>\n",
              "    </tr>\n",
              "    <tr>\n",
              "      <th>...</th>\n",
              "      <td>...</td>\n",
              "      <td>...</td>\n",
              "    </tr>\n",
              "    <tr>\n",
              "      <th>11759449</th>\n",
              "      <td>9606.ENSP00000485678</td>\n",
              "      <td>9606.ENSP00000310488</td>\n",
              "    </tr>\n",
              "    <tr>\n",
              "      <th>11759450</th>\n",
              "      <td>9606.ENSP00000485678</td>\n",
              "      <td>9606.ENSP00000342448</td>\n",
              "    </tr>\n",
              "    <tr>\n",
              "      <th>11759451</th>\n",
              "      <td>9606.ENSP00000485678</td>\n",
              "      <td>9606.ENSP00000350222</td>\n",
              "    </tr>\n",
              "    <tr>\n",
              "      <th>11759452</th>\n",
              "      <td>9606.ENSP00000485678</td>\n",
              "      <td>9606.ENSP00000367590</td>\n",
              "    </tr>\n",
              "    <tr>\n",
              "      <th>11759453</th>\n",
              "      <td>9606.ENSP00000485678</td>\n",
              "      <td>9606.ENSP00000349930</td>\n",
              "    </tr>\n",
              "  </tbody>\n",
              "</table>\n",
              "<p>11759454 rows × 2 columns</p>\n",
              "</div>"
            ],
            "text/plain": [
              "                      protein1              protein2\n",
              "0         9606.ENSP00000000233  9606.ENSP00000272298\n",
              "1         9606.ENSP00000000233  9606.ENSP00000253401\n",
              "2         9606.ENSP00000000233  9606.ENSP00000401445\n",
              "3         9606.ENSP00000000233  9606.ENSP00000418915\n",
              "4         9606.ENSP00000000233  9606.ENSP00000327801\n",
              "...                        ...                   ...\n",
              "11759449  9606.ENSP00000485678  9606.ENSP00000310488\n",
              "11759450  9606.ENSP00000485678  9606.ENSP00000342448\n",
              "11759451  9606.ENSP00000485678  9606.ENSP00000350222\n",
              "11759452  9606.ENSP00000485678  9606.ENSP00000367590\n",
              "11759453  9606.ENSP00000485678  9606.ENSP00000349930\n",
              "\n",
              "[11759454 rows x 2 columns]"
            ]
          },
          "metadata": {
            "tags": []
          },
          "execution_count": 193
        }
      ]
    },
    {
      "cell_type": "code",
      "metadata": {
        "id": "SPqLHdQeeftn",
        "colab_type": "code",
        "colab": {}
      },
      "source": [
        "positive_interactions = pd.DataFrame({\n",
        "    \"p1\": links[\"protein1\"],\n",
        "    \"p2\": links[\"protein2\"],\n",
        "    \"interaction\": [1] * len(links)\n",
        "})\n",
        "\n",
        "N_POSITIVE = 2000\n",
        "positive_interactions = positive_interactions.iloc[:N_POSITIVE,:]\n",
        "\n",
        "N_NEGATIVE = 13000\n",
        "\n",
        "neg_p1 = np.random.choice(proteins.index, N_NEGATIVE)\n",
        "neg_p2 = np.random.choice(proteins.index, N_NEGATIVE)\n",
        "\n",
        "negative_interactions = pd.DataFrame({\n",
        "    \"p1\": neg_p1,\n",
        "    \"p2\": neg_p2,\n",
        "    \"interaction\": [0] * N_NEGATIVE\n",
        "})\n",
        "\n",
        "interaction_dataset = pd.concat((positive_interactions, negative_interactions),axis=0)"
      ],
      "execution_count": 0,
      "outputs": []
    },
    {
      "cell_type": "code",
      "metadata": {
        "id": "bKRzQRN4a6P7",
        "colab_type": "code",
        "colab": {}
      },
      "source": [
        "interaction_dataset = interaction_dataset.merge(proteins,left_on='p1',right_on='protein_external_id')\n",
        "interaction_dataset = interaction_dataset.drop(['preferred_name','protein_size','annotation'],axis=1)\n",
        "interaction_dataset = interaction_dataset.rename(columns={\"sequence\":\"s1\"})\n",
        "interaction_dataset = interaction_dataset.merge(proteins,left_on='p2',right_on='protein_external_id')\n",
        "interaction_dataset = interaction_dataset.drop(['preferred_name','protein_size','annotation'],axis=1)\n",
        "interaction_dataset = interaction_dataset.rename(columns={\"sequence\":\"s2\"})\n"
      ],
      "execution_count": 0,
      "outputs": []
    },
    {
      "cell_type": "code",
      "metadata": {
        "id": "qeKxcNSWgoT5",
        "colab_type": "code",
        "outputId": "42eefee2-1823-49a4-f0ef-bc714c8f5060",
        "colab": {
          "base_uri": "https://localhost:8080/",
          "height": 419
        }
      },
      "source": [
        "interaction_dataset"
      ],
      "execution_count": 0,
      "outputs": [
        {
          "output_type": "execute_result",
          "data": {
            "text/html": [
              "<div>\n",
              "<style scoped>\n",
              "    .dataframe tbody tr th:only-of-type {\n",
              "        vertical-align: middle;\n",
              "    }\n",
              "\n",
              "    .dataframe tbody tr th {\n",
              "        vertical-align: top;\n",
              "    }\n",
              "\n",
              "    .dataframe thead th {\n",
              "        text-align: right;\n",
              "    }\n",
              "</style>\n",
              "<table border=\"1\" class=\"dataframe\">\n",
              "  <thead>\n",
              "    <tr style=\"text-align: right;\">\n",
              "      <th></th>\n",
              "      <th>p1</th>\n",
              "      <th>p2</th>\n",
              "      <th>interaction</th>\n",
              "      <th>s1</th>\n",
              "      <th>s2</th>\n",
              "    </tr>\n",
              "  </thead>\n",
              "  <tbody>\n",
              "    <tr>\n",
              "      <th>0</th>\n",
              "      <td>9606.ENSP00000000233</td>\n",
              "      <td>9606.ENSP00000272298</td>\n",
              "      <td>1</td>\n",
              "      <td>MGLTVSALFSRIFGKKQMRILMVGLDAAGKTTILYKLKLGEIVTTI...</td>\n",
              "      <td>MADQLTEEQIAEFKEAFSLFDKDGDGTITTKELGTVMRSLGQNPTE...</td>\n",
              "    </tr>\n",
              "    <tr>\n",
              "      <th>1</th>\n",
              "      <td>9606.ENSP00000359778</td>\n",
              "      <td>9606.ENSP00000272298</td>\n",
              "      <td>0</td>\n",
              "      <td>MKRLPLLVVFSTLLNCSYTQNCTKTPCLPNAKCEIRNGIEACYCNM...</td>\n",
              "      <td>MADQLTEEQIAEFKEAFSLFDKDGDGTITTKELGTVMRSLGQNPTE...</td>\n",
              "    </tr>\n",
              "    <tr>\n",
              "      <th>2</th>\n",
              "      <td>9606.ENSP00000000233</td>\n",
              "      <td>9606.ENSP00000253401</td>\n",
              "      <td>1</td>\n",
              "      <td>MGLTVSALFSRIFGKKQMRILMVGLDAAGKTTILYKLKLGEIVTTI...</td>\n",
              "      <td>MTLLITGDSIVSAEAVWDHVTMANRELAFKAGDVIKVLDASNKDWW...</td>\n",
              "    </tr>\n",
              "    <tr>\n",
              "      <th>3</th>\n",
              "      <td>9606.ENSP00000000233</td>\n",
              "      <td>9606.ENSP00000401445</td>\n",
              "      <td>1</td>\n",
              "      <td>MGLTVSALFSRIFGKKQMRILMVGLDAAGKTTILYKLKLGEIVTTI...</td>\n",
              "      <td>MPARRLLLLLTLLLPGLGIFGSTSTVTLPETLLFVSTLDGSLHAVS...</td>\n",
              "    </tr>\n",
              "    <tr>\n",
              "      <th>4</th>\n",
              "      <td>9606.ENSP00000315137</td>\n",
              "      <td>9606.ENSP00000401445</td>\n",
              "      <td>0</td>\n",
              "      <td>MAELLRSLQDSQLVARFQRRCGLFPAPDEGPRENGADPTERAARVP...</td>\n",
              "      <td>MPARRLLLLLTLLLPGLGIFGSTSTVTLPETLLFVSTLDGSLHAVS...</td>\n",
              "    </tr>\n",
              "    <tr>\n",
              "      <th>...</th>\n",
              "      <td>...</td>\n",
              "      <td>...</td>\n",
              "      <td>...</td>\n",
              "      <td>...</td>\n",
              "      <td>...</td>\n",
              "    </tr>\n",
              "    <tr>\n",
              "      <th>14995</th>\n",
              "      <td>9606.ENSP00000310520</td>\n",
              "      <td>9606.ENSP00000282928</td>\n",
              "      <td>0</td>\n",
              "      <td>MESGQPARRIAMAPLLEYERQLVLELLDTDGLVVCARGLGADRLLY...</td>\n",
              "      <td>MLLDAGPQYPAIGVTTFGASRHHSAGDVAERDVGLGINPFADGMGA...</td>\n",
              "    </tr>\n",
              "    <tr>\n",
              "      <th>14996</th>\n",
              "      <td>9606.ENSP00000338487</td>\n",
              "      <td>9606.ENSP00000359378</td>\n",
              "      <td>0</td>\n",
              "      <td>MSRVAGTRTDVNELLQRWTPRCVRWHTGGARRVALDRPLVTACLPP...</td>\n",
              "      <td>MAVFLEAKDAHSVLKRFPRANEFLEELRQGTIERECMEEICSYEEV...</td>\n",
              "    </tr>\n",
              "    <tr>\n",
              "      <th>14997</th>\n",
              "      <td>9606.ENSP00000442786</td>\n",
              "      <td>9606.ENSP00000368682</td>\n",
              "      <td>0</td>\n",
              "      <td>MLSVQPDTKPKGCAGCNRKIKDRYLLKALDKYWHEDCLKCACCDCR...</td>\n",
              "      <td>MEAETGSSVETGKKANRGTRIALVVFVGGTLVLGTILFLVSQGLLS...</td>\n",
              "    </tr>\n",
              "    <tr>\n",
              "      <th>14998</th>\n",
              "      <td>9606.ENSP00000361400</td>\n",
              "      <td>9606.ENSP00000355013</td>\n",
              "      <td>0</td>\n",
              "      <td>MWLCPLALTLILMAASGAACEVKDVCVGSPGIPGTPGSHGLPGRDG...</td>\n",
              "      <td>MSRGSIEIPLRDTDEVIELDFDQLPEGDEVISILKQEHTQLHIWIA...</td>\n",
              "    </tr>\n",
              "    <tr>\n",
              "      <th>14999</th>\n",
              "      <td>9606.ENSP00000262848</td>\n",
              "      <td>9606.ENSP00000377836</td>\n",
              "      <td>0</td>\n",
              "      <td>MEAPGLAQAAAAESDSRKVAEETPDGAPALCPSPEALSPEPPVYSL...</td>\n",
              "      <td>MAGTVRTACLVVAMLLSLDFPGQAQPPPPPPDATCHQVRSFFQRLQ...</td>\n",
              "    </tr>\n",
              "  </tbody>\n",
              "</table>\n",
              "<p>15000 rows × 5 columns</p>\n",
              "</div>"
            ],
            "text/plain": [
              "                         p1  ...                                                 s2\n",
              "0      9606.ENSP00000000233  ...  MADQLTEEQIAEFKEAFSLFDKDGDGTITTKELGTVMRSLGQNPTE...\n",
              "1      9606.ENSP00000359778  ...  MADQLTEEQIAEFKEAFSLFDKDGDGTITTKELGTVMRSLGQNPTE...\n",
              "2      9606.ENSP00000000233  ...  MTLLITGDSIVSAEAVWDHVTMANRELAFKAGDVIKVLDASNKDWW...\n",
              "3      9606.ENSP00000000233  ...  MPARRLLLLLTLLLPGLGIFGSTSTVTLPETLLFVSTLDGSLHAVS...\n",
              "4      9606.ENSP00000315137  ...  MPARRLLLLLTLLLPGLGIFGSTSTVTLPETLLFVSTLDGSLHAVS...\n",
              "...                     ...  ...                                                ...\n",
              "14995  9606.ENSP00000310520  ...  MLLDAGPQYPAIGVTTFGASRHHSAGDVAERDVGLGINPFADGMGA...\n",
              "14996  9606.ENSP00000338487  ...  MAVFLEAKDAHSVLKRFPRANEFLEELRQGTIERECMEEICSYEEV...\n",
              "14997  9606.ENSP00000442786  ...  MEAETGSSVETGKKANRGTRIALVVFVGGTLVLGTILFLVSQGLLS...\n",
              "14998  9606.ENSP00000361400  ...  MSRGSIEIPLRDTDEVIELDFDQLPEGDEVISILKQEHTQLHIWIA...\n",
              "14999  9606.ENSP00000262848  ...  MAGTVRTACLVVAMLLSLDFPGQAQPPPPPPDATCHQVRSFFQRLQ...\n",
              "\n",
              "[15000 rows x 5 columns]"
            ]
          },
          "metadata": {
            "tags": []
          },
          "execution_count": 196
        }
      ]
    },
    {
      "cell_type": "code",
      "metadata": {
        "id": "9zj8gEmKbCT5",
        "colab_type": "code",
        "colab": {}
      },
      "source": [
        "ct1 = np.array([encode_CT(seq) for seq in interaction_dataset['s1']])\n",
        "ct2 = np.array([encode_CT(seq) for seq in interaction_dataset['s2']])\n",
        "\n",
        "PADDING_LENGTH = 3530\n",
        "\n",
        "enc1 = tf.keras.preprocessing.sequence.pad_sequences(ct1,maxlen=PADDING_LENGTH)\n",
        "enc1 = enc1.reshape((enc1.shape[0],enc1.shape[1],1))\n",
        "enc2 = tf.keras.preprocessing.sequence.pad_sequences(ct2,maxlen=PADDING_LENGTH)\n",
        "enc2 = enc2.reshape((enc2.shape[0],enc2.shape[1],1))"
      ],
      "execution_count": 0,
      "outputs": []
    },
    {
      "cell_type": "code",
      "metadata": {
        "id": "u7XkRw4GbDsC",
        "colab_type": "code",
        "outputId": "73beef6c-f1a4-4f7e-86ef-7fa46a9aec09",
        "colab": {
          "base_uri": "https://localhost:8080/",
          "height": 51
        }
      },
      "source": [
        "print(\"Encoding first protein...\")\n",
        "p1_encodings = encoder.predict(enc1)\n",
        "print(\"Encoding second protein...\")\n",
        "p2_encodings = encoder.predict(enc2)\n",
        "\n",
        "interaction_samples = []\n",
        "\n",
        "for pair in zip(p1_encodings, p2_encodings):\n",
        "  interaction_samples.append(tf.tensordot(pair[0],pair[1],axes=0))\n",
        "\n",
        "interaction_samples = tf.stack(interaction_samples)"
      ],
      "execution_count": 0,
      "outputs": [
        {
          "output_type": "stream",
          "text": [
            "Encoding first protein...\n",
            "Encoding second protein...\n"
          ],
          "name": "stdout"
        }
      ]
    },
    {
      "cell_type": "code",
      "metadata": {
        "id": "NyB0AkKvcPJV",
        "colab_type": "code",
        "outputId": "b9ca71d5-badc-401b-de7c-ad955b47fad2",
        "colab": {
          "base_uri": "https://localhost:8080/",
          "height": 302
        }
      },
      "source": [
        "#@title Change the slider to view different protein interactions! { display-mode: \"form\", run: \"auto\" }\n",
        "\n",
        "VISUALIZE_INTERACTION = 3782 #@param {type: \"slider\", min:0, max:15000, step:1}\n",
        "\n",
        "print(interaction_dataset['p1'][VISUALIZE_INTERACTION],interaction_dataset['p2'][VISUALIZE_INTERACTION])\n",
        "print(f\"Interaction? {'True' if interaction_dataset['interaction'][VISUALIZE_INTERACTION] else 'False'}\")\n",
        "plt.imshow(interaction_samples[VISUALIZE_INTERACTION])\n",
        "plt.show()"
      ],
      "execution_count": 0,
      "outputs": [
        {
          "output_type": "stream",
          "text": [
            "9606.ENSP00000481559 9606.ENSP00000228347\n",
            "Interaction? False\n"
          ],
          "name": "stdout"
        },
        {
          "output_type": "display_data",
          "data": {
            "image/png": "[encoded data removed]",
            "text/plain": [
              "<Figure size 432x288 with 1 Axes>"
            ]
          },
          "metadata": {
            "tags": []
          }
        }
      ]
    },
    {
      "cell_type": "code",
      "metadata": {
        "id": "J-D6RSV5km0L",
        "colab_type": "code",
        "colab": {}
      },
      "source": [
        "def build_cnn():\n",
        "  \n",
        "  model = tf.keras.models.Sequential([\n",
        "          tf.keras.layers.Conv2D(64, kernel_size=3, activation=\"relu\", input_shape=(128,128,1)),\n",
        "          tf.keras.layers.MaxPooling2D(pool_size=(4,4)),\n",
        "          tf.keras.layers.Dropout(0.25),\n",
        "          tf.keras.layers.Conv2D(32, kernel_size=3, activation=\"relu\"),\n",
        "          tf.keras.layers.MaxPooling2D(pool_size=(2,2)),\n",
        "          tf.keras.layers.Dropout(0.25),\n",
        "          tf.keras.layers.Flatten(),\n",
        "          tf.keras.layers.Dense(128, activation=\"relu\"),\n",
        "          tf.keras.layers.Dense(2, activation='softmax')\n",
        "  ])\n",
        "  model.compile(optimizer='adam', loss='sparse_categorical_crossentropy', metrics=['accuracy'])\n",
        "  return model"
      ],
      "execution_count": 0,
      "outputs": []
    },
    {
      "cell_type": "code",
      "metadata": {
        "id": "hLShv-KJc28J",
        "colab_type": "code",
        "outputId": "68fa13fd-17df-4b1b-d65e-f7c421542039",
        "colab": {
          "base_uri": "https://localhost:8080/",
          "height": 1000
        }
      },
      "source": [
        "cnn = build_cnn()\n",
        "print(cnn.summary())\n",
        "tf.keras.utils.plot_model(cnn)"
      ],
      "execution_count": 0,
      "outputs": [
        {
          "output_type": "stream",
          "text": [
            "Model: \"sequential_9\"\n",
            "_________________________________________________________________\n",
            "Layer (type)                 Output Shape              Param #   \n",
            "=================================================================\n",
            "conv2d_6 (Conv2D)            (None, 126, 126, 64)      640       \n",
            "_________________________________________________________________\n",
            "max_pooling2d_6 (MaxPooling2 (None, 31, 31, 64)        0         \n",
            "_________________________________________________________________\n",
            "dropout_6 (Dropout)          (None, 31, 31, 64)        0         \n",
            "_________________________________________________________________\n",
            "conv2d_7 (Conv2D)            (None, 29, 29, 32)        18464     \n",
            "_________________________________________________________________\n",
            "max_pooling2d_7 (MaxPooling2 (None, 14, 14, 32)        0         \n",
            "_________________________________________________________________\n",
            "dropout_7 (Dropout)          (None, 14, 14, 32)        0         \n",
            "_________________________________________________________________\n",
            "flatten_3 (Flatten)          (None, 6272)              0         \n",
            "_________________________________________________________________\n",
            "dense_15 (Dense)             (None, 128)               802944    \n",
            "_________________________________________________________________\n",
            "dense_16 (Dense)             (None, 2)                 258       \n",
            "=================================================================\n",
            "Total params: 822,306\n",
            "Trainable params: 822,306\n",
            "Non-trainable params: 0\n",
            "_________________________________________________________________\n",
            "None\n"
          ],
          "name": "stdout"
        },
        {
          "output_type": "execute_result",
          "data": {
            "image/png": "[encoded data removed]",
            "text/plain": [
              "<IPython.core.display.Image object>"
            ]
          },
          "metadata": {
            "tags": []
          },
          "execution_count": 200
        }
      ]
    },
    {
      "cell_type": "code",
      "metadata": {
        "id": "DS18I6nche-2",
        "colab_type": "code",
        "colab": {}
      },
      "source": [
        "#from sklearn.model_selection import train_test_split\n",
        "\n",
        "TEST_SIZE = 0.25\n",
        "test_size = len(interaction_samples) * TEST_SIZE\n",
        "SEED = 42\n",
        "\n",
        "indices = tf.range(start=0, limit=interaction_samples.shape[0], dtype=tf.int32)\n",
        "shuffled_indices = tf.random.shuffle(indices)\n",
        "\n",
        "shuffled_x = tf.gather(interaction_samples, shuffled_indices)\n",
        "shuffled_y = tf.gather(interaction_dataset[\"interaction\"], shuffled_indices)\n",
        "\n",
        "X_train = shuffled_x[:int(1-test_size),:,:]\n",
        "X_test = shuffled_x[-int(test_size):,:,:]\n",
        "y_train = shuffled_y[:int(1-test_size)]\n",
        "y_test = shuffled_y[-int(test_size):]\n",
        "\n",
        "#X_train, X_test, y_train, y_test = train_test_split(interaction_samples,interaction_dataset[\"interaction\"], test_size=TEST_SIZE, random_state=SEED)"
      ],
      "execution_count": 0,
      "outputs": []
    },
    {
      "cell_type": "code",
      "metadata": {
        "id": "gcomV9pFU_ZX",
        "colab_type": "code",
        "outputId": "3223678a-bb94-4a77-ad97-842f92a16450",
        "colab": {
          "base_uri": "https://localhost:8080/",
          "height": 1000
        }
      },
      "source": [
        "BATCH_SIZE = 256\n",
        "EPOCHS = 50\n",
        "\n",
        "X_train = tf.reshape(X_train, (X_train.shape[0], 128, 128, 1))\n",
        "history = cnn.fit(X_train, y_train, batch_size=BATCH_SIZE, epochs=EPOCHS)"
      ],
      "execution_count": 0,
      "outputs": [
        {
          "output_type": "stream",
          "text": [
            "Train on 11251 samples\n",
            "Epoch 1/50\n",
            "11251/11251 [==============================] - 3s 243us/sample - loss: 0.4097 - accuracy: 0.8630\n",
            "Epoch 2/50\n",
            "11251/11251 [==============================] - 2s 204us/sample - loss: 0.3659 - accuracy: 0.8677\n",
            "Epoch 3/50\n",
            "11251/11251 [==============================] - 2s 203us/sample - loss: 0.3603 - accuracy: 0.8677\n",
            "Epoch 4/50\n",
            "11251/11251 [==============================] - 2s 202us/sample - loss: 0.3579 - accuracy: 0.8677\n",
            "Epoch 5/50\n",
            "11251/11251 [==============================] - 2s 205us/sample - loss: 0.3555 - accuracy: 0.8677\n",
            "Epoch 6/50\n",
            "11251/11251 [==============================] - 2s 201us/sample - loss: 0.3595 - accuracy: 0.8677\n",
            "Epoch 7/50\n",
            "11251/11251 [==============================] - 2s 202us/sample - loss: 0.3507 - accuracy: 0.8677\n",
            "Epoch 8/50\n",
            "11251/11251 [==============================] - 2s 221us/sample - loss: 0.3490 - accuracy: 0.8677\n",
            "Epoch 9/50\n",
            "11251/11251 [==============================] - 2s 203us/sample - loss: 0.3388 - accuracy: 0.8677\n",
            "Epoch 10/50\n",
            "11251/11251 [==============================] - 2s 204us/sample - loss: 0.3323 - accuracy: 0.8677\n",
            "Epoch 11/50\n",
            "11251/11251 [==============================] - 2s 203us/sample - loss: 0.3155 - accuracy: 0.8677\n",
            "Epoch 12/50\n",
            "11251/11251 [==============================] - 2s 204us/sample - loss: 0.2988 - accuracy: 0.8677\n",
            "Epoch 13/50\n",
            "11251/11251 [==============================] - 2s 202us/sample - loss: 0.2806 - accuracy: 0.8677\n",
            "Epoch 14/50\n",
            "11251/11251 [==============================] - 2s 202us/sample - loss: 0.2558 - accuracy: 0.8677\n",
            "Epoch 15/50\n",
            "11251/11251 [==============================] - 2s 203us/sample - loss: 0.2404 - accuracy: 0.8677\n",
            "Epoch 16/50\n",
            "11251/11251 [==============================] - 2s 203us/sample - loss: 0.2288 - accuracy: 0.8677\n",
            "Epoch 17/50\n",
            "11251/11251 [==============================] - 2s 204us/sample - loss: 0.2238 - accuracy: 0.8677\n",
            "Epoch 18/50\n",
            "11251/11251 [==============================] - 2s 205us/sample - loss: 0.2185 - accuracy: 0.8677\n",
            "Epoch 19/50\n",
            "11251/11251 [==============================] - 2s 202us/sample - loss: 0.2158 - accuracy: 0.8677\n",
            "Epoch 20/50\n",
            "11251/11251 [==============================] - 2s 202us/sample - loss: 0.2136 - accuracy: 0.8684\n",
            "Epoch 21/50\n",
            "11251/11251 [==============================] - 2s 202us/sample - loss: 0.2102 - accuracy: 0.8725\n",
            "Epoch 22/50\n",
            "11251/11251 [==============================] - 2s 202us/sample - loss: 0.2048 - accuracy: 0.8823\n",
            "Epoch 23/50\n",
            "11251/11251 [==============================] - 2s 202us/sample - loss: 0.2073 - accuracy: 0.8790\n",
            "Epoch 24/50\n",
            "11251/11251 [==============================] - 2s 202us/sample - loss: 0.2017 - accuracy: 0.8828\n",
            "Epoch 25/50\n",
            "11251/11251 [==============================] - 2s 201us/sample - loss: 0.1970 - accuracy: 0.8893\n",
            "Epoch 26/50\n",
            "11251/11251 [==============================] - 2s 201us/sample - loss: 0.1941 - accuracy: 0.8910\n",
            "Epoch 27/50\n",
            "11251/11251 [==============================] - 2s 202us/sample - loss: 0.1892 - accuracy: 0.8957\n",
            "Epoch 28/50\n",
            "11251/11251 [==============================] - 2s 203us/sample - loss: 0.1876 - accuracy: 0.8973\n",
            "Epoch 29/50\n",
            "11251/11251 [==============================] - 2s 204us/sample - loss: 0.1864 - accuracy: 0.9005\n",
            "Epoch 30/50\n",
            "11251/11251 [==============================] - 2s 201us/sample - loss: 0.1884 - accuracy: 0.9020\n",
            "Epoch 31/50\n",
            "11251/11251 [==============================] - 2s 202us/sample - loss: 0.1777 - accuracy: 0.9070\n",
            "Epoch 32/50\n",
            "11251/11251 [==============================] - 2s 202us/sample - loss: 0.1764 - accuracy: 0.9099\n",
            "Epoch 33/50\n",
            "11251/11251 [==============================] - 2s 202us/sample - loss: 0.1680 - accuracy: 0.9188\n",
            "Epoch 34/50\n",
            "11251/11251 [==============================] - 2s 203us/sample - loss: 0.1726 - accuracy: 0.9127\n",
            "Epoch 35/50\n",
            "11251/11251 [==============================] - 2s 204us/sample - loss: 0.1642 - accuracy: 0.9205\n",
            "Epoch 36/50\n",
            "11251/11251 [==============================] - 2s 203us/sample - loss: 0.1604 - accuracy: 0.9249\n",
            "Epoch 37/50\n",
            "11251/11251 [==============================] - 2s 202us/sample - loss: 0.1584 - accuracy: 0.9296\n",
            "Epoch 38/50\n",
            "11251/11251 [==============================] - 2s 201us/sample - loss: 0.1494 - accuracy: 0.9344\n",
            "Epoch 39/50\n",
            "11251/11251 [==============================] - 2s 201us/sample - loss: 0.1448 - accuracy: 0.9384\n",
            "Epoch 40/50\n",
            "11251/11251 [==============================] - 2s 203us/sample - loss: 0.1429 - accuracy: 0.9383\n",
            "Epoch 41/50\n",
            "11251/11251 [==============================] - 2s 202us/sample - loss: 0.1361 - accuracy: 0.9426\n",
            "Epoch 42/50\n",
            "11251/11251 [==============================] - 2s 203us/sample - loss: 0.1361 - accuracy: 0.9415\n",
            "Epoch 43/50\n",
            "11251/11251 [==============================] - 2s 202us/sample - loss: 0.1320 - accuracy: 0.9448\n",
            "Epoch 44/50\n",
            "11251/11251 [==============================] - 2s 202us/sample - loss: 0.1304 - accuracy: 0.9441\n",
            "Epoch 45/50\n",
            "11251/11251 [==============================] - 2s 204us/sample - loss: 0.1224 - accuracy: 0.9525\n",
            "Epoch 46/50\n",
            "11251/11251 [==============================] - 2s 203us/sample - loss: 0.1196 - accuracy: 0.9548\n",
            "Epoch 47/50\n",
            "11251/11251 [==============================] - 2s 204us/sample - loss: 0.1135 - accuracy: 0.9556\n",
            "Epoch 48/50\n",
            "11251/11251 [==============================] - 2s 202us/sample - loss: 0.1152 - accuracy: 0.9539\n",
            "Epoch 49/50\n",
            "11251/11251 [==============================] - 2s 201us/sample - loss: 0.1095 - accuracy: 0.9571\n",
            "Epoch 50/50\n",
            "11251/11251 [==============================] - 2s 202us/sample - loss: 0.1022 - accuracy: 0.9624\n"
          ],
          "name": "stdout"
        }
      ]
    },
    {
      "cell_type": "code",
      "metadata": {
        "id": "JIvvDxK5kzg5",
        "colab_type": "code",
        "colab": {}
      },
      "source": [
        "cnn.save(f\"{DRIVE_HOME}/cnn.h5\")"
      ],
      "execution_count": 0,
      "outputs": []
    },
    {
      "cell_type": "code",
      "metadata": {
        "id": "SK5oanXyV-I4",
        "colab_type": "code",
        "outputId": "7389f687-cdb0-4693-a000-11731b4455c8",
        "colab": {
          "base_uri": "https://localhost:8080/",
          "height": 51
        }
      },
      "source": [
        "X_test = tf.reshape(X_test, (X_test.shape[0], 128, 128, 1))\n",
        "results = cnn.evaluate(X_test, y_test, batch_size=128)\n",
        "print(\"Test Loss, Test Accuracy:\", results)"
      ],
      "execution_count": 0,
      "outputs": [
        {
          "output_type": "stream",
          "text": [
            "3750/3750 [==============================] - 0s 105us/sample - loss: 0.0782 - accuracy: 0.9781\n",
            "Test Loss, Test Accuracy: [0.07824438007672628, 0.9781333]\n"
          ],
          "name": "stdout"
        }
      ]
    },
    {
      "cell_type": "code",
      "metadata": {
        "id": "APmAO26BxK1q",
        "colab_type": "code",
        "outputId": "d3a9a448-7c95-48e8-d5fc-57bfdd2aa8a1",
        "colab": {
          "base_uri": "https://localhost:8080/",
          "height": 312
        }
      },
      "source": [
        "from sklearn.metrics import roc_curve, auc\n",
        "y_pred = cnn.predict(X_test)\n",
        "fpr, tpr, thresh = roc_curve(y_test, y_pred.squeeze()[:,1])\n",
        "area_curve = auc(fpr, tpr)\n",
        "\n",
        "plt.figure()\n",
        "plt.plot([0,1],[0,1],'k--')\n",
        "plt.plot(fpr,tpr,label=f'Keras (area={area_curve})')\n",
        "plt.xlabel('FPR')\n",
        "plt.ylabel('TPR')\n",
        "plt.legend(loc='best')\n",
        "plt.title('ROC Curve')\n",
        "plt.show()"
      ],
      "execution_count": 0,
      "outputs": [
        {
          "output_type": "display_data",
          "data": {
            "image/png": "[encoded data removed]",
            "text/plain": [
              "<Figure size 432x288 with 1 Axes>"
            ]
          },
          "metadata": {
            "tags": []
          }
        },
        {
          "output_type": "display_data",
          "data": {
            "text/plain": [
              "<Figure size 432x288 with 0 Axes>"
            ]
          },
          "metadata": {
            "tags": []
          }
        }
      ]
    },
    {
      "cell_type": "code",
      "metadata": {
        "id": "Yvr7MKLtqugv",
        "colab_type": "code",
        "outputId": "2ff889b5-4efb-4d3f-8851-97fd5eb7ce92",
        "colab": {
          "base_uri": "https://localhost:8080/",
          "height": 102
        }
      },
      "source": [
        "#@title Change the slider to look at the model's predictions! { display-mode: \"form\", run: \"auto\" }\n",
        "\n",
        "PREDICT_INDEX = 6922 #@param {type: \"slider\", min:0, max:15000, step:1}\n",
        "\n",
        "p1, p2 = interaction_dataset['p1'][PREDICT_INDEX],interaction_dataset['p2'][PREDICT_INDEX]\n",
        "print(f\"Predict {p1} with {p2}\")\n",
        "print(f\"Interaction: {'True' if interaction_dataset['interaction'][PREDICT_INDEX] else 'False'}\")\n",
        "p = tf.reshape(interaction_samples[PREDICT_INDEX], (1,128,128,1))\n",
        "y = cnn.predict(p)\n",
        "y = y.squeeze()\n",
        "print(f\"Probability 0: {y[0]}\")\n",
        "print(f\"Probability 1: {y[1]}\")\n",
        "print(f\"Prediction: {'True' if np.argmax(y) else 'False'}\")"
      ],
      "execution_count": 0,
      "outputs": [
        {
          "output_type": "stream",
          "text": [
            "Predict 9606.ENSP00000384364 with 9606.ENSP00000290438\n",
            "Interaction: False\n",
            "Probability 0: 1.0\n",
            "Probability 1: 3.484162647282574e-08\n",
            "Prediction: False\n"
          ],
          "name": "stdout"
        }
      ]
    },
    {
      "cell_type": "markdown",
      "metadata": {
        "id": "-FBQa5Fj-GLX",
        "colab_type": "text"
      },
      "source": [
        "# Testing on Protein Interactions from Other Species"
      ]
    },
    {
      "cell_type": "code",
      "metadata": {
        "id": "0PjwDs-e9vW4",
        "colab_type": "code",
        "colab": {
          "base_uri": "https://localhost:8080/",
          "height": 1000
        },
        "outputId": "ea4b148c-9a39-4d70-c0e8-1be8bca988e6"
      },
      "source": [
        "# Saccharmoyces cerevisiae (Yeast)\n",
        "!wget https://stringdb-static.org/download/protein.links.detailed.v11.0/4932.protein.links.detailed.v11.0.txt.gz\n",
        "!wget https://stringdb-static.org/download/protein.sequences.v11.0/4932.protein.sequences.v11.0.fa.gz\n",
        "!wget https://stringdb-static.org/download/protein.info.v11.0/4932.protein.info.v11.0.txt.gz\n",
        "\n",
        "!mv 4932.protein.links.detailed.v11.0.txt.gz /content/drive/My\\ Drive/PhD/PPI_DL\n",
        "!mv 4932.protein.sequences.v11.0.fa.gz /content/drive/My\\ Drive/PhD/PPI_DL\n",
        "!mv 4932.protein.info.v11.0.txt.gz /content/drive/My\\ Drive/PhD/PPI_DL\n",
        "\n",
        "# Drosophilia melanogaster (Fruit Fly)\n",
        "!wget https://stringdb-static.org/download/protein.links.detailed.v11.0/7227.protein.links.detailed.v11.0.txt.gz\n",
        "!wget https://stringdb-static.org/download/protein.sequences.v11.0/7227.protein.sequences.v11.0.fa.gz\n",
        "!wget https://stringdb-static.org/download/protein.info.v11.0/7227.protein.info.v11.0.txt.gz\n",
        "\n",
        "!mv 7227.protein.links.detailed.v11.0.txt.gz /content/drive/My\\ Drive/PhD/PPI_DL\n",
        "!mv 7227.protein.sequences.v11.0.fa.gz /content/drive/My\\ Drive/PhD/PPI_DL\n",
        "!mv 7227.protein.info.v11.0.txt.gz /content/drive/My\\ Drive/PhD/PPI_DL\n"
      ],
      "execution_count": 6,
      "outputs": [
        {
          "output_type": "stream",
          "text": [
            "--2020-01-30 17:48:31--  https://stringdb-static.org/download/protein.links.detailed.v11.0/4932.protein.links.detailed.v11.0.txt.gz\n",
            "Resolving stringdb-static.org (stringdb-static.org)... 104.26.10.133, 104.26.11.133, 2606:4700:20::681a:a85, ...\n",
            "Connecting to stringdb-static.org (stringdb-static.org)|104.26.10.133|:443... connected.\n",
            "HTTP request sent, awaiting response... 200 OK\n",
            "Length: 17812973 (17M) [application/x-gzip]\n",
            "Saving to: ‘4932.protein.links.detailed.v11.0.txt.gz’\n",
            "\n",
            "4932.protein.links. 100%[===================>]  16.99M  10.7MB/s    in 1.6s    \n",
            "\n",
            "2020-01-30 17:48:33 (10.7 MB/s) - ‘4932.protein.links.detailed.v11.0.txt.gz’ saved [17812973/17812973]\n",
            "\n",
            "--2020-01-30 17:48:34--  https://stringdb-static.org/download/protein.sequences.v11.0/4932.protein.sequences.v11.0.fa.gz\n",
            "Resolving stringdb-static.org (stringdb-static.org)... 104.26.10.133, 104.26.11.133, 2606:4700:20::681a:a85, ...\n",
            "Connecting to stringdb-static.org (stringdb-static.org)|104.26.10.133|:443... connected.\n",
            "HTTP request sent, awaiting response... 200 OK\n",
            "Length: 1801756 (1.7M) [application/x-gzip]\n",
            "Saving to: ‘4932.protein.sequences.v11.0.fa.gz’\n",
            "\n",
            "4932.protein.sequen 100%[===================>]   1.72M  2.62MB/s    in 0.7s    \n",
            "\n",
            "2020-01-30 17:48:35 (2.62 MB/s) - ‘4932.protein.sequences.v11.0.fa.gz’ saved [1801756/1801756]\n",
            "\n",
            "--2020-01-30 17:48:36--  https://stringdb-static.org/download/protein.info.v11.0/4932.protein.info.v11.0.txt.gz\n",
            "Resolving stringdb-static.org (stringdb-static.org)... 104.26.10.133, 104.26.11.133, 2606:4700:20::681a:a85, ...\n",
            "Connecting to stringdb-static.org (stringdb-static.org)|104.26.10.133|:443... connected.\n",
            "HTTP request sent, awaiting response... 200 OK\n",
            "Length: 552936 (540K) [application/x-gzip]\n",
            "Saving to: ‘4932.protein.info.v11.0.txt.gz’\n",
            "\n",
            "4932.protein.info.v 100%[===================>] 539.98K  1.04MB/s    in 0.5s    \n",
            "\n",
            "2020-01-30 17:48:36 (1.04 MB/s) - ‘4932.protein.info.v11.0.txt.gz’ saved [552936/552936]\n",
            "\n",
            "--2020-01-30 17:48:40--  https://stringdb-static.org/download/protein.links.detailed.v11.0/7227.protein.links.detailed.v11.0.txt.gz\n",
            "Resolving stringdb-static.org (stringdb-static.org)... 104.26.10.133, 104.26.11.133, 2606:4700:20::681a:a85, ...\n",
            "Connecting to stringdb-static.org (stringdb-static.org)|104.26.10.133|:443... connected.\n",
            "HTTP request sent, awaiting response... 200 OK\n",
            "Length: 35141126 (34M) [application/x-gzip]\n",
            "Saving to: ‘7227.protein.links.detailed.v11.0.txt.gz’\n",
            "\n",
            "7227.protein.links. 100%[===================>]  33.51M  13.0MB/s    in 2.6s    \n",
            "\n",
            "2020-01-30 17:48:43 (13.0 MB/s) - ‘7227.protein.links.detailed.v11.0.txt.gz’ saved [35141126/35141126]\n",
            "\n",
            "--2020-01-30 17:48:43--  https://stringdb-static.org/download/protein.sequences.v11.0/7227.protein.sequences.v11.0.fa.gz\n",
            "Resolving stringdb-static.org (stringdb-static.org)... 104.26.10.133, 104.26.11.133, 2606:4700:20::681a:a85, ...\n",
            "Connecting to stringdb-static.org (stringdb-static.org)|104.26.10.133|:443... connected.\n",
            "HTTP request sent, awaiting response... 200 OK\n",
            "Length: 4445889 (4.2M) [application/x-gzip]\n",
            "Saving to: ‘7227.protein.sequences.v11.0.fa.gz’\n",
            "\n",
            "7227.protein.sequen 100%[===================>]   4.24M  5.21MB/s    in 0.8s    \n",
            "\n",
            "2020-01-30 17:48:44 (5.21 MB/s) - ‘7227.protein.sequences.v11.0.fa.gz’ saved [4445889/4445889]\n",
            "\n",
            "--2020-01-30 17:48:45--  https://stringdb-static.org/download/protein.info.v11.0/7227.protein.info.v11.0.txt.gz\n",
            "Resolving stringdb-static.org (stringdb-static.org)... 104.26.10.133, 104.26.11.133, 2606:4700:20::681a:a85, ...\n",
            "Connecting to stringdb-static.org (stringdb-static.org)|104.26.10.133|:443... connected.\n",
            "HTTP request sent, awaiting response... 200 OK\n",
            "Length: 687988 (672K) [application/x-gzip]\n",
            "Saving to: ‘7227.protein.info.v11.0.txt.gz’\n",
            "\n",
            "7227.protein.info.v 100%[===================>] 671.86K  1.19MB/s    in 0.6s    \n",
            "\n",
            "2020-01-30 17:48:46 (1.19 MB/s) - ‘7227.protein.info.v11.0.txt.gz’ saved [687988/687988]\n",
            "\n"
          ],
          "name": "stdout"
        }
      ]
    },
    {
      "cell_type": "code",
      "metadata": {
        "id": "c39kcjhh-7J6",
        "colab_type": "code",
        "colab": {}
      },
      "source": [
        "yeast_links = pd.read_csv(f\"{DRIVE_HOME}/4932.protein.links.detailed.v11.0.txt.gz\",sep=\" \",compression=\"gzip\")\n",
        "yeast_info = pd.read_csv(f\"{DRIVE_HOME}/4932.protein.info.v11.0.txt.gz\",sep=\"\\t\",compression=\"gzip\")\n",
        "yeast_seqs = pd.DataFrame(read_fasta(f\"{DRIVE_HOME}/4932.protein.sequences.v11.0.fa.gz\"),columns=['protein_external_id','sequence'])\n",
        "yeast_proteins = pd.merge(yeast_info,yeast_seqs,on='protein_external_id')\n",
        "yeast_proteins = yeast_proteins.set_index('protein_external_id')\n",
        "\n",
        "fly_links = pd.read_csv(f\"{DRIVE_HOME}/7227.protein.links.detailed.v11.0.txt.gz\",sep=\" \",compression=\"gzip\")\n",
        "fly_info = pd.read_csv(f\"{DRIVE_HOME}/7227.protein.info.v11.0.txt.gz\",sep=\"\\t\",compression=\"gzip\")\n",
        "fly_seqs = pd.DataFrame(read_fasta(f\"{DRIVE_HOME}/7227.protein.sequences.v11.0.fa.gz\"),columns=['protein_external_id','sequence'])\n",
        "fly_proteins = pd.merge(fly_info,fly_seqs,on='protein_external_id')\n",
        "fly_proteins = fly_proteins.set_index('protein_external_id')\n",
        "\n",
        "all_proteins = pd.concat([yeast_proteins, fly_proteins])"
      ],
      "execution_count": 0,
      "outputs": []
    },
    {
      "cell_type": "code",
      "metadata": {
        "id": "VlUC6HXTACe8",
        "colab_type": "code",
        "colab": {}
      },
      "source": [
        "val_positive_interactions = pd.DataFrame({\n",
        "    \"p1\": pd.concat([yeast_links[\"protein1\"], fly_links[\"protein1\"]]),\n",
        "    \"p2\": pd.concat([yeast_links[\"protein2\"], fly_links[\"protein2\"]]),\n",
        "    \"interaction\": [1] * (len(yeast_links) + len(fly_links))\n",
        "})\n",
        "\n",
        "N_POSITIVE = 10000\n",
        "\n",
        "val_positive_interactions = val_positive_interactions.sample(N_POSITIVE)\n",
        "\n",
        "N_NEGATIVE = 10000\n",
        "\n",
        "val_neg_p1 = np.random.choice(yeast_proteins.index, N_NEGATIVE)\n",
        "val_neg_p2 = np.random.choice(fly_proteins.index, N_NEGATIVE)\n",
        "\n",
        "val_negative_interactions = pd.DataFrame({\n",
        "    \"p1\": val_neg_p1,\n",
        "    \"p2\": val_neg_p2,\n",
        "    \"interaction\": [0] * N_NEGATIVE\n",
        "})\n",
        "\n",
        "val_interaction_dataset = pd.concat((val_positive_interactions, val_negative_interactions),axis=0)"
      ],
      "execution_count": 0,
      "outputs": []
    },
    {
      "cell_type": "code",
      "metadata": {
        "id": "HwuikDqcBlRi",
        "colab_type": "code",
        "colab": {}
      },
      "source": [
        "val_interaction_dataset = val_interaction_dataset.merge(all_proteins,left_on='p1',right_on='protein_external_id')\n",
        "val_interaction_dataset = val_interaction_dataset.drop(['preferred_name','protein_size','annotation'],axis=1)\n",
        "val_interaction_dataset = val_interaction_dataset.rename(columns={\"sequence\":\"s1\"})\n",
        "val_interaction_dataset = val_interaction_dataset.merge(all_proteins,left_on='p2',right_on='protein_external_id')\n",
        "val_interaction_dataset = val_interaction_dataset.drop(['preferred_name','protein_size','annotation'],axis=1)\n",
        "val_interaction_dataset = val_interaction_dataset.rename(columns={\"sequence\":\"s2\"})"
      ],
      "execution_count": 0,
      "outputs": []
    },
    {
      "cell_type": "code",
      "metadata": {
        "id": "dXi20CPGA-8q",
        "colab_type": "code",
        "outputId": "b09025a5-c3ed-4ec8-cf91-78709b0d5fd7",
        "colab": {
          "base_uri": "https://localhost:8080/",
          "height": 419
        }
      },
      "source": [
        "val_interaction_dataset"
      ],
      "execution_count": 323,
      "outputs": [
        {
          "output_type": "execute_result",
          "data": {
            "text/html": [
              "<div>\n",
              "<style scoped>\n",
              "    .dataframe tbody tr th:only-of-type {\n",
              "        vertical-align: middle;\n",
              "    }\n",
              "\n",
              "    .dataframe tbody tr th {\n",
              "        vertical-align: top;\n",
              "    }\n",
              "\n",
              "    .dataframe thead th {\n",
              "        text-align: right;\n",
              "    }\n",
              "</style>\n",
              "<table border=\"1\" class=\"dataframe\">\n",
              "  <thead>\n",
              "    <tr style=\"text-align: right;\">\n",
              "      <th></th>\n",
              "      <th>p1</th>\n",
              "      <th>p2</th>\n",
              "      <th>interaction</th>\n",
              "      <th>s1</th>\n",
              "      <th>s2</th>\n",
              "    </tr>\n",
              "  </thead>\n",
              "  <tbody>\n",
              "    <tr>\n",
              "      <th>0</th>\n",
              "      <td>4932.YJR111C</td>\n",
              "      <td>4932.YNL277W</td>\n",
              "      <td>1</td>\n",
              "      <td>MNQILNAQRLIQLSQFHPKLKNIWYLVAAATFSVCNEPQEIPKLYH...</td>\n",
              "      <td>MSHTLKSKTLQELDIEEIKETNPLLKLVQGQRIVQVPELVLESGVV...</td>\n",
              "    </tr>\n",
              "    <tr>\n",
              "      <th>1</th>\n",
              "      <td>4932.YPL156C</td>\n",
              "      <td>4932.YNL277W</td>\n",
              "      <td>1</td>\n",
              "      <td>MIADSSVLKKHTAIKRSTRIISLTLVLLGVFSFLLLTWNDSLEFYN...</td>\n",
              "      <td>MSHTLKSKTLQELDIEEIKETNPLLKLVQGQRIVQVPELVLESGVV...</td>\n",
              "    </tr>\n",
              "    <tr>\n",
              "      <th>2</th>\n",
              "      <td>4932.YJR111C</td>\n",
              "      <td>4932.YDR354W</td>\n",
              "      <td>1</td>\n",
              "      <td>MNQILNAQRLIQLSQFHPKLKNIWYLVAAATFSVCNEPQEIPKLYH...</td>\n",
              "      <td>MSEATLLSYTKKLLASPPQLSSTDLHDALLVILSLLQKCDTNSDES...</td>\n",
              "    </tr>\n",
              "    <tr>\n",
              "      <th>3</th>\n",
              "      <td>4932.YOR232W</td>\n",
              "      <td>4932.YDR354W</td>\n",
              "      <td>1</td>\n",
              "      <td>MRAFSAATVRATTRKSFIPMAPRTPFVTPSFTKNVGSMRRMRFYSD...</td>\n",
              "      <td>MSEATLLSYTKKLLASPPQLSSTDLHDALLVILSLLQKCDTNSDES...</td>\n",
              "    </tr>\n",
              "    <tr>\n",
              "      <th>4</th>\n",
              "      <td>4932.YJR111C</td>\n",
              "      <td>7227.FBpp0074226</td>\n",
              "      <td>0</td>\n",
              "      <td>MNQILNAQRLIQLSQFHPKLKNIWYLVAAATFSVCNEPQEIPKLYH...</td>\n",
              "      <td>MLTNCASKTLAAVRANIRAIATSSARASDNLFVHRDTPEDNPNIPF...</td>\n",
              "    </tr>\n",
              "    <tr>\n",
              "      <th>...</th>\n",
              "      <td>...</td>\n",
              "      <td>...</td>\n",
              "      <td>...</td>\n",
              "      <td>...</td>\n",
              "      <td>...</td>\n",
              "    </tr>\n",
              "    <tr>\n",
              "      <th>19995</th>\n",
              "      <td>4932.YGR137W</td>\n",
              "      <td>7227.FBpp0298275</td>\n",
              "      <td>0</td>\n",
              "      <td>MHLQPVICKLRLHSNSRRLYHILHLSLITINSLSNSTHHLHSKHRW...</td>\n",
              "      <td>MMSKESSLETCELTLPVGQIKGVKRLSLYDDPYFSFEKIPFAKPPL...</td>\n",
              "    </tr>\n",
              "    <tr>\n",
              "      <th>19996</th>\n",
              "      <td>4932.YGR179C</td>\n",
              "      <td>7227.FBpp0075939</td>\n",
              "      <td>0</td>\n",
              "      <td>MAADRDNFLQNIENDSINNGQAMDLSPNRSSSESDSSILMNVNDIK...</td>\n",
              "      <td>MRPILALSLAVLATLVVLSSQATSTSPTSSSSTSPTSSSSTSPTSS...</td>\n",
              "    </tr>\n",
              "    <tr>\n",
              "      <th>19997</th>\n",
              "      <td>4932.YOL089C</td>\n",
              "      <td>7227.FBpp0289892</td>\n",
              "      <td>0</td>\n",
              "      <td>MENQGGDYSPNGFSNSASNMNAVFNNEITGRSDISNVNHQTGTPRL...</td>\n",
              "      <td>MRTVPILLLICCLGWLHKGQADERKIGAVGPPMKQRSLRHVSSFAN...</td>\n",
              "    </tr>\n",
              "    <tr>\n",
              "      <th>19998</th>\n",
              "      <td>4932.YLR079W</td>\n",
              "      <td>7227.FBpp0087023</td>\n",
              "      <td>0</td>\n",
              "      <td>MTPSTPPRSRGTRYLAQPSGNTSSSALMQGQKTPQKPSQNLVPVTP...</td>\n",
              "      <td>MKFFAVLVCFSAVLAIAMASTATTTSTPTTPSSPTTTTYTYTTTPT...</td>\n",
              "    </tr>\n",
              "    <tr>\n",
              "      <th>19999</th>\n",
              "      <td>4932.YDR404C</td>\n",
              "      <td>7227.FBpp0076083</td>\n",
              "      <td>0</td>\n",
              "      <td>MFFIKDLSLNITLHPSFFGPRMKQYLKTKLLEEVEGSCTGKFGYIL...</td>\n",
              "      <td>MQEFSAKRDALFACLDDASKELRGTALDQSKAKAFSINALDRGNKS...</td>\n",
              "    </tr>\n",
              "  </tbody>\n",
              "</table>\n",
              "<p>20000 rows × 5 columns</p>\n",
              "</div>"
            ],
            "text/plain": [
              "                 p1  ...                                                 s2\n",
              "0      4932.YJR111C  ...  MSHTLKSKTLQELDIEEIKETNPLLKLVQGQRIVQVPELVLESGVV...\n",
              "1      4932.YPL156C  ...  MSHTLKSKTLQELDIEEIKETNPLLKLVQGQRIVQVPELVLESGVV...\n",
              "2      4932.YJR111C  ...  MSEATLLSYTKKLLASPPQLSSTDLHDALLVILSLLQKCDTNSDES...\n",
              "3      4932.YOR232W  ...  MSEATLLSYTKKLLASPPQLSSTDLHDALLVILSLLQKCDTNSDES...\n",
              "4      4932.YJR111C  ...  MLTNCASKTLAAVRANIRAIATSSARASDNLFVHRDTPEDNPNIPF...\n",
              "...             ...  ...                                                ...\n",
              "19995  4932.YGR137W  ...  MMSKESSLETCELTLPVGQIKGVKRLSLYDDPYFSFEKIPFAKPPL...\n",
              "19996  4932.YGR179C  ...  MRPILALSLAVLATLVVLSSQATSTSPTSSSSTSPTSSSSTSPTSS...\n",
              "19997  4932.YOL089C  ...  MRTVPILLLICCLGWLHKGQADERKIGAVGPPMKQRSLRHVSSFAN...\n",
              "19998  4932.YLR079W  ...  MKFFAVLVCFSAVLAIAMASTATTTSTPTTPSSPTTTTYTYTTTPT...\n",
              "19999  4932.YDR404C  ...  MQEFSAKRDALFACLDDASKELRGTALDQSKAKAFSINALDRGNKS...\n",
              "\n",
              "[20000 rows x 5 columns]"
            ]
          },
          "metadata": {
            "tags": []
          },
          "execution_count": 323
        }
      ]
    },
    {
      "cell_type": "code",
      "metadata": {
        "id": "QKheS2WEB_6C",
        "colab_type": "code",
        "colab": {}
      },
      "source": [
        "val_ct1 = np.array([encode_CT(seq) for seq in val_interaction_dataset['s1']])\n",
        "val_ct2 = np.array([encode_CT(seq) for seq in val_interaction_dataset['s2']])\n",
        "\n",
        "PADDING_LENGTH = 3530\n",
        "\n",
        "val_enc1 = tf.keras.preprocessing.sequence.pad_sequences(val_ct1,maxlen=PADDING_LENGTH)\n",
        "val_enc1 = val_enc1.reshape((val_enc1.shape[0],val_enc1.shape[1],1))\n",
        "val_enc2 = tf.keras.preprocessing.sequence.pad_sequences(val_ct2,maxlen=PADDING_LENGTH)\n",
        "val_enc2 = val_enc2.reshape((val_enc2.shape[0],val_enc2.shape[1],1))\n",
        "\n",
        "print(\"Encoding first protein...\")\n",
        "val_p1_encodings = encoder.predict(val_enc1)\n",
        "print(\"Encoding second protein...\")\n",
        "val_p2_encodings = encoder.predict(val_enc2)\n",
        "\n",
        "val_interaction_samples = []\n",
        "\n",
        "for pair in zip(val_p1_encodings, val_p2_encodings):\n",
        "  val_interaction_samples.append(tf.tensordot(pair[0],pair[1],axes=0))\n",
        "\n",
        "val_interaction_samples = tf.stack(val_interaction_samples)"
      ],
      "execution_count": 0,
      "outputs": []
    },
    {
      "cell_type": "code",
      "metadata": {
        "id": "V_Bm0MfECSaV",
        "colab_type": "code",
        "outputId": "0a235a27-22b2-4c92-e50f-728996a3aaf6",
        "colab": {
          "base_uri": "https://localhost:8080/",
          "height": 51
        }
      },
      "source": [
        "val_test = tf.reshape(val_interaction_samples, (val_interaction_samples.shape[0], 128, 128, 1))\n",
        "val_results = cnn.evaluate(val_test, val_interaction_dataset['interaction'], batch_size=128)\n",
        "print(\"Test Loss, Test Accuracy:\", val_results)"
      ],
      "execution_count": 0,
      "outputs": [
        {
          "output_type": "stream",
          "text": [
            "20000/20000 [==============================] - 2s 81us/sample - loss: 8.1121 - accuracy: 0.4967\n",
            "Test Loss, Test Accuracy: [8.112130057305098, 0.49665]\n"
          ],
          "name": "stdout"
        }
      ]
    },
    {
      "cell_type": "code",
      "metadata": {
        "id": "Oe_6qOYFFoMg",
        "colab_type": "code",
        "outputId": "fd132191-688d-455d-c379-124ce16594e3",
        "colab": {
          "base_uri": "https://localhost:8080/",
          "height": 312
        }
      },
      "source": [
        "val_pred = cnn.predict(val_test)\n",
        "fpr, tpr, thresh = roc_curve(val_interaction_dataset[\"interaction\"], val_pred.squeeze()[:,1])\n",
        "area_curve = auc(fpr, tpr)\n",
        "\n",
        "plt.figure()\n",
        "plt.plot([0,1],[0,1],'k--')\n",
        "plt.plot(fpr,tpr,label=f'Keras (area={area_curve})')\n",
        "plt.xlabel('FPR')\n",
        "plt.ylabel('TPR')\n",
        "plt.legend(loc='best')\n",
        "plt.title('ROC Curve')\n",
        "plt.show()"
      ],
      "execution_count": 0,
      "outputs": [
        {
          "output_type": "display_data",
          "data": {
            "image/png": "[encoded data removed]",
            "text/plain": [
              "<Figure size 432x288 with 1 Axes>"
            ]
          },
          "metadata": {
            "tags": []
          }
        },
        {
          "output_type": "display_data",
          "data": {
            "text/plain": [
              "<Figure size 432x288 with 0 Axes>"
            ]
          },
          "metadata": {
            "tags": []
          }
        }
      ]
    },
    {
      "cell_type": "code",
      "metadata": {
        "id": "rFNWfym0F2PF",
        "colab_type": "code",
        "colab": {}
      },
      "source": [
        "TEST_SIZE = 0.25\n",
        "test_size = len(val_interaction_samples) * TEST_SIZE\n",
        "SEED = 42\n",
        "\n",
        "val_indices = tf.range(start=0, limit=val_interaction_samples.shape[0], dtype=tf.int32)\n",
        "val_shuffled_indices = tf.random.shuffle(val_indices)\n",
        "\n",
        "val_shuffled_x = tf.gather(val_interaction_samples, val_shuffled_indices)\n",
        "val_shuffled_y = tf.gather(val_interaction_dataset[\"interaction\"], val_shuffled_indices)\n",
        "\n",
        "X_train = val_shuffled_x[:int(1-test_size),:,:]\n",
        "X_test = val_shuffled_x[-int(test_size):,:,:]\n",
        "y_train = val_shuffled_y[:int(1-test_size)]\n",
        "y_test = val_shuffled_y[-int(test_size):]"
      ],
      "execution_count": 0,
      "outputs": []
    },
    {
      "cell_type": "code",
      "metadata": {
        "id": "hogQWdqIKe15",
        "colab_type": "code",
        "outputId": "516c2117-b1bd-4acf-be8c-c0559866bf88",
        "colab": {
          "base_uri": "https://localhost:8080/",
          "height": 1000
        }
      },
      "source": [
        "BATCH_SIZE = 256\n",
        "EPOCHS = 50\n",
        "\n",
        "#yeast_fly_cnn = build_cnn()\n",
        "X_train = tf.reshape(X_train, (X_train.shape[0], 128, 128, 1))\n",
        "history = yeast_fly_cnn.fit(X_train, y_train, batch_size=BATCH_SIZE, epochs=150)"
      ],
      "execution_count": 0,
      "outputs": [
        {
          "output_type": "stream",
          "text": [
            "Train on 15001 samples\n",
            "Epoch 1/150\n",
            "15001/15001 [==============================] - 3s 198us/sample - loss: 0.6901 - accuracy: 0.5326\n",
            "Epoch 2/150\n",
            "15001/15001 [==============================] - 3s 198us/sample - loss: 0.6897 - accuracy: 0.5310\n",
            "Epoch 3/150\n",
            "15001/15001 [==============================] - 3s 198us/sample - loss: 0.6895 - accuracy: 0.5298\n",
            "Epoch 4/150\n",
            "15001/15001 [==============================] - 3s 198us/sample - loss: 0.6898 - accuracy: 0.5320\n",
            "Epoch 5/150\n",
            "15001/15001 [==============================] - 3s 198us/sample - loss: 0.6895 - accuracy: 0.5323\n",
            "Epoch 6/150\n",
            "15001/15001 [==============================] - 3s 198us/sample - loss: 0.6893 - accuracy: 0.5332\n",
            "Epoch 7/150\n",
            "15001/15001 [==============================] - 3s 197us/sample - loss: 0.6896 - accuracy: 0.5273\n",
            "Epoch 8/150\n",
            "15001/15001 [==============================] - 3s 198us/sample - loss: 0.6890 - accuracy: 0.5366\n",
            "Epoch 9/150\n",
            "15001/15001 [==============================] - 3s 198us/sample - loss: 0.6885 - accuracy: 0.5354\n",
            "Epoch 10/150\n",
            "15001/15001 [==============================] - 3s 198us/sample - loss: 0.6886 - accuracy: 0.5358\n",
            "Epoch 11/150\n",
            "15001/15001 [==============================] - 3s 198us/sample - loss: 0.6889 - accuracy: 0.5341\n",
            "Epoch 12/150\n",
            "15001/15001 [==============================] - 3s 198us/sample - loss: 0.6893 - accuracy: 0.5345\n",
            "Epoch 13/150\n",
            "15001/15001 [==============================] - 3s 197us/sample - loss: 0.6885 - accuracy: 0.5368\n",
            "Epoch 14/150\n",
            "15001/15001 [==============================] - 3s 199us/sample - loss: 0.6877 - accuracy: 0.5447\n",
            "Epoch 15/150\n",
            "15001/15001 [==============================] - 3s 197us/sample - loss: 0.6881 - accuracy: 0.5359\n",
            "Epoch 16/150\n",
            "15001/15001 [==============================] - 3s 199us/sample - loss: 0.6873 - accuracy: 0.5419\n",
            "Epoch 17/150\n",
            "15001/15001 [==============================] - 3s 198us/sample - loss: 0.6884 - accuracy: 0.5368\n",
            "Epoch 18/150\n",
            "15001/15001 [==============================] - 3s 198us/sample - loss: 0.6876 - accuracy: 0.5387\n",
            "Epoch 19/150\n",
            "15001/15001 [==============================] - 3s 197us/sample - loss: 0.6882 - accuracy: 0.5404\n",
            "Epoch 20/150\n",
            "15001/15001 [==============================] - 3s 197us/sample - loss: 0.6881 - accuracy: 0.5368\n",
            "Epoch 21/150\n",
            "15001/15001 [==============================] - 3s 198us/sample - loss: 0.6871 - accuracy: 0.5358\n",
            "Epoch 22/150\n",
            "15001/15001 [==============================] - 3s 198us/sample - loss: 0.6869 - accuracy: 0.5386\n",
            "Epoch 23/150\n",
            "15001/15001 [==============================] - 3s 198us/sample - loss: 0.6872 - accuracy: 0.5392\n",
            "Epoch 24/150\n",
            "15001/15001 [==============================] - 3s 200us/sample - loss: 0.6881 - accuracy: 0.5379\n",
            "Epoch 25/150\n",
            "15001/15001 [==============================] - 3s 197us/sample - loss: 0.6873 - accuracy: 0.5383\n",
            "Epoch 26/150\n",
            "15001/15001 [==============================] - 3s 198us/sample - loss: 0.6878 - accuracy: 0.5381\n",
            "Epoch 27/150\n",
            "15001/15001 [==============================] - 3s 197us/sample - loss: 0.6878 - accuracy: 0.5358\n",
            "Epoch 28/150\n",
            "15001/15001 [==============================] - 3s 197us/sample - loss: 0.6876 - accuracy: 0.5366\n",
            "Epoch 29/150\n",
            "15001/15001 [==============================] - 3s 197us/sample - loss: 0.6878 - accuracy: 0.5388\n",
            "Epoch 30/150\n",
            "15001/15001 [==============================] - 3s 198us/sample - loss: 0.6885 - accuracy: 0.5340\n",
            "Epoch 31/150\n",
            "15001/15001 [==============================] - 3s 199us/sample - loss: 0.6877 - accuracy: 0.5399\n",
            "Epoch 32/150\n",
            "15001/15001 [==============================] - 3s 199us/sample - loss: 0.6871 - accuracy: 0.5342\n",
            "Epoch 33/150\n",
            "15001/15001 [==============================] - 3s 199us/sample - loss: 0.6877 - accuracy: 0.5400\n",
            "Epoch 34/150\n",
            "15001/15001 [==============================] - 3s 197us/sample - loss: 0.6878 - accuracy: 0.5334\n",
            "Epoch 35/150\n",
            "15001/15001 [==============================] - 3s 198us/sample - loss: 0.6873 - accuracy: 0.5409\n",
            "Epoch 36/150\n",
            "15001/15001 [==============================] - 3s 196us/sample - loss: 0.6882 - accuracy: 0.5366\n",
            "Epoch 37/150\n",
            "15001/15001 [==============================] - 3s 198us/sample - loss: 0.6871 - accuracy: 0.5389\n",
            "Epoch 38/150\n",
            "15001/15001 [==============================] - 3s 198us/sample - loss: 0.6872 - accuracy: 0.5449\n",
            "Epoch 39/150\n",
            "15001/15001 [==============================] - 3s 197us/sample - loss: 0.6872 - accuracy: 0.5366\n",
            "Epoch 40/150\n",
            "15001/15001 [==============================] - 3s 199us/sample - loss: 0.6865 - accuracy: 0.5390\n",
            "Epoch 41/150\n",
            "15001/15001 [==============================] - 3s 196us/sample - loss: 0.6870 - accuracy: 0.5400\n",
            "Epoch 42/150\n",
            "15001/15001 [==============================] - 3s 199us/sample - loss: 0.6868 - accuracy: 0.5405\n",
            "Epoch 43/150\n",
            "15001/15001 [==============================] - 3s 197us/sample - loss: 0.6858 - accuracy: 0.5405\n",
            "Epoch 44/150\n",
            "15001/15001 [==============================] - 3s 199us/sample - loss: 0.6867 - accuracy: 0.5411\n",
            "Epoch 45/150\n",
            "15001/15001 [==============================] - 3s 199us/sample - loss: 0.6866 - accuracy: 0.5386\n",
            "Epoch 46/150\n",
            "15001/15001 [==============================] - 3s 199us/sample - loss: 0.6859 - accuracy: 0.5446\n",
            "Epoch 47/150\n",
            "15001/15001 [==============================] - 3s 197us/sample - loss: 0.6861 - accuracy: 0.5420\n",
            "Epoch 48/150\n",
            "15001/15001 [==============================] - 3s 198us/sample - loss: 0.6866 - accuracy: 0.5409\n",
            "Epoch 49/150\n",
            "15001/15001 [==============================] - 3s 199us/sample - loss: 0.6862 - accuracy: 0.5418\n",
            "Epoch 50/150\n",
            "15001/15001 [==============================] - 3s 197us/sample - loss: 0.6866 - accuracy: 0.5377\n",
            "Epoch 51/150\n",
            "15001/15001 [==============================] - 3s 197us/sample - loss: 0.6861 - accuracy: 0.5427\n",
            "Epoch 52/150\n",
            "15001/15001 [==============================] - 3s 199us/sample - loss: 0.6872 - accuracy: 0.5430\n",
            "Epoch 53/150\n",
            "15001/15001 [==============================] - 3s 198us/sample - loss: 0.6858 - accuracy: 0.5425\n",
            "Epoch 54/150\n",
            "15001/15001 [==============================] - 3s 199us/sample - loss: 0.6869 - accuracy: 0.5427\n",
            "Epoch 55/150\n",
            "15001/15001 [==============================] - 3s 199us/sample - loss: 0.6858 - accuracy: 0.5451\n",
            "Epoch 56/150\n",
            "15001/15001 [==============================] - 3s 197us/sample - loss: 0.6864 - accuracy: 0.5448\n",
            "Epoch 57/150\n",
            "15001/15001 [==============================] - 3s 196us/sample - loss: 0.6856 - accuracy: 0.5428\n",
            "Epoch 58/150\n",
            "15001/15001 [==============================] - 3s 198us/sample - loss: 0.6856 - accuracy: 0.5435\n",
            "Epoch 59/150\n",
            "15001/15001 [==============================] - 3s 198us/sample - loss: 0.6862 - accuracy: 0.5453\n",
            "Epoch 60/150\n",
            "15001/15001 [==============================] - 3s 196us/sample - loss: 0.6856 - accuracy: 0.5467\n",
            "Epoch 61/150\n",
            "15001/15001 [==============================] - 3s 195us/sample - loss: 0.6855 - accuracy: 0.5434\n",
            "Epoch 62/150\n",
            "15001/15001 [==============================] - 3s 199us/sample - loss: 0.6856 - accuracy: 0.5492\n",
            "Epoch 63/150\n",
            "15001/15001 [==============================] - 3s 195us/sample - loss: 0.6869 - accuracy: 0.5396\n",
            "Epoch 64/150\n",
            "15001/15001 [==============================] - 3s 198us/sample - loss: 0.6864 - accuracy: 0.5469\n",
            "Epoch 65/150\n",
            "15001/15001 [==============================] - 3s 199us/sample - loss: 0.6857 - accuracy: 0.5425\n",
            "Epoch 66/150\n",
            "15001/15001 [==============================] - 3s 197us/sample - loss: 0.6851 - accuracy: 0.5464\n",
            "Epoch 67/150\n",
            "15001/15001 [==============================] - 3s 197us/sample - loss: 0.6853 - accuracy: 0.5432\n",
            "Epoch 68/150\n",
            "15001/15001 [==============================] - 3s 197us/sample - loss: 0.6856 - accuracy: 0.5457\n",
            "Epoch 69/150\n",
            "15001/15001 [==============================] - 3s 196us/sample - loss: 0.6861 - accuracy: 0.5424\n",
            "Epoch 70/150\n",
            "15001/15001 [==============================] - 3s 196us/sample - loss: 0.6856 - accuracy: 0.5430\n",
            "Epoch 71/150\n",
            "15001/15001 [==============================] - 3s 197us/sample - loss: 0.6854 - accuracy: 0.5431\n",
            "Epoch 72/150\n",
            "15001/15001 [==============================] - 3s 197us/sample - loss: 0.6866 - accuracy: 0.5434\n",
            "Epoch 73/150\n",
            "15001/15001 [==============================] - 3s 197us/sample - loss: 0.6860 - accuracy: 0.5400\n",
            "Epoch 74/150\n",
            "15001/15001 [==============================] - 3s 195us/sample - loss: 0.6868 - accuracy: 0.5368\n",
            "Epoch 75/150\n",
            "15001/15001 [==============================] - 3s 195us/sample - loss: 0.6860 - accuracy: 0.5425\n",
            "Epoch 76/150\n",
            "15001/15001 [==============================] - 3s 197us/sample - loss: 0.6856 - accuracy: 0.5426\n",
            "Epoch 77/150\n",
            "15001/15001 [==============================] - 3s 198us/sample - loss: 0.6860 - accuracy: 0.5391\n",
            "Epoch 78/150\n",
            "15001/15001 [==============================] - 3s 198us/sample - loss: 0.6851 - accuracy: 0.5475\n",
            "Epoch 79/150\n",
            "15001/15001 [==============================] - 3s 198us/sample - loss: 0.6857 - accuracy: 0.5420\n",
            "Epoch 80/150\n",
            "15001/15001 [==============================] - 3s 198us/sample - loss: 0.6858 - accuracy: 0.5418\n",
            "Epoch 81/150\n",
            "15001/15001 [==============================] - 3s 197us/sample - loss: 0.6860 - accuracy: 0.5460\n",
            "Epoch 82/150\n",
            "15001/15001 [==============================] - 3s 197us/sample - loss: 0.6862 - accuracy: 0.5407\n",
            "Epoch 83/150\n",
            "15001/15001 [==============================] - 3s 199us/sample - loss: 0.6852 - accuracy: 0.5475\n",
            "Epoch 84/150\n",
            "15001/15001 [==============================] - 3s 201us/sample - loss: 0.6855 - accuracy: 0.5474\n",
            "Epoch 85/150\n",
            "15001/15001 [==============================] - 3s 200us/sample - loss: 0.6854 - accuracy: 0.5425\n",
            "Epoch 86/150\n",
            "15001/15001 [==============================] - 3s 197us/sample - loss: 0.6853 - accuracy: 0.5463\n",
            "Epoch 87/150\n",
            "15001/15001 [==============================] - 3s 198us/sample - loss: 0.6856 - accuracy: 0.5442\n",
            "Epoch 88/150\n",
            "15001/15001 [==============================] - 3s 197us/sample - loss: 0.6851 - accuracy: 0.5470\n",
            "Epoch 89/150\n",
            "15001/15001 [==============================] - 3s 197us/sample - loss: 0.6848 - accuracy: 0.5461\n",
            "Epoch 90/150\n",
            "15001/15001 [==============================] - 3s 198us/sample - loss: 0.6865 - accuracy: 0.5388\n",
            "Epoch 91/150\n",
            "15001/15001 [==============================] - 3s 199us/sample - loss: 0.6852 - accuracy: 0.5470\n",
            "Epoch 92/150\n",
            "15001/15001 [==============================] - 3s 197us/sample - loss: 0.6855 - accuracy: 0.5454\n",
            "Epoch 93/150\n",
            "15001/15001 [==============================] - 3s 200us/sample - loss: 0.6852 - accuracy: 0.5443\n",
            "Epoch 94/150\n",
            "15001/15001 [==============================] - 3s 198us/sample - loss: 0.6859 - accuracy: 0.5433\n",
            "Epoch 95/150\n",
            "15001/15001 [==============================] - 3s 199us/sample - loss: 0.6856 - accuracy: 0.5460\n",
            "Epoch 96/150\n",
            "15001/15001 [==============================] - 3s 198us/sample - loss: 0.6851 - accuracy: 0.5466\n",
            "Epoch 97/150\n",
            "15001/15001 [==============================] - 3s 198us/sample - loss: 0.6850 - accuracy: 0.5484\n",
            "Epoch 98/150\n",
            "15001/15001 [==============================] - 3s 199us/sample - loss: 0.6852 - accuracy: 0.5434\n",
            "Epoch 99/150\n",
            "15001/15001 [==============================] - 3s 199us/sample - loss: 0.6845 - accuracy: 0.5444\n",
            "Epoch 100/150\n",
            "15001/15001 [==============================] - 3s 197us/sample - loss: 0.6851 - accuracy: 0.5458\n",
            "Epoch 101/150\n",
            "15001/15001 [==============================] - 3s 199us/sample - loss: 0.6852 - accuracy: 0.5442\n",
            "Epoch 102/150\n",
            "15001/15001 [==============================] - 3s 200us/sample - loss: 0.6853 - accuracy: 0.5454\n",
            "Epoch 103/150\n",
            "15001/15001 [==============================] - 3s 198us/sample - loss: 0.6851 - accuracy: 0.5502\n",
            "Epoch 104/150\n",
            "15001/15001 [==============================] - 3s 198us/sample - loss: 0.6851 - accuracy: 0.5435\n",
            "Epoch 105/150\n",
            "15001/15001 [==============================] - 3s 199us/sample - loss: 0.6850 - accuracy: 0.5443\n",
            "Epoch 106/150\n",
            "15001/15001 [==============================] - 3s 198us/sample - loss: 0.6858 - accuracy: 0.5500\n",
            "Epoch 107/150\n",
            "15001/15001 [==============================] - 3s 198us/sample - loss: 0.6857 - accuracy: 0.5428\n",
            "Epoch 108/150\n",
            "15001/15001 [==============================] - 3s 200us/sample - loss: 0.6851 - accuracy: 0.5435\n",
            "Epoch 109/150\n",
            "15001/15001 [==============================] - 3s 198us/sample - loss: 0.6852 - accuracy: 0.5423\n",
            "Epoch 110/150\n",
            "15001/15001 [==============================] - 3s 199us/sample - loss: 0.6845 - accuracy: 0.5462\n",
            "Epoch 111/150\n",
            "15001/15001 [==============================] - 3s 199us/sample - loss: 0.6850 - accuracy: 0.5442\n",
            "Epoch 112/150\n",
            "15001/15001 [==============================] - 3s 198us/sample - loss: 0.6855 - accuracy: 0.5452\n",
            "Epoch 113/150\n",
            "15001/15001 [==============================] - 3s 199us/sample - loss: 0.6845 - accuracy: 0.5441\n",
            "Epoch 114/150\n",
            "15001/15001 [==============================] - 3s 198us/sample - loss: 0.6848 - accuracy: 0.5468\n",
            "Epoch 115/150\n",
            "15001/15001 [==============================] - 3s 198us/sample - loss: 0.6853 - accuracy: 0.5450\n",
            "Epoch 116/150\n",
            "15001/15001 [==============================] - 3s 199us/sample - loss: 0.6847 - accuracy: 0.5476\n",
            "Epoch 117/150\n",
            "15001/15001 [==============================] - 3s 200us/sample - loss: 0.6850 - accuracy: 0.5426\n",
            "Epoch 118/150\n",
            "15001/15001 [==============================] - 3s 197us/sample - loss: 0.6850 - accuracy: 0.5473\n",
            "Epoch 119/150\n",
            "15001/15001 [==============================] - 3s 199us/sample - loss: 0.6848 - accuracy: 0.5458\n",
            "Epoch 120/150\n",
            "15001/15001 [==============================] - 3s 199us/sample - loss: 0.6852 - accuracy: 0.5451\n",
            "Epoch 121/150\n",
            "15001/15001 [==============================] - 3s 198us/sample - loss: 0.6851 - accuracy: 0.5471\n",
            "Epoch 122/150\n",
            "15001/15001 [==============================] - 3s 199us/sample - loss: 0.6852 - accuracy: 0.5453\n",
            "Epoch 123/150\n",
            "15001/15001 [==============================] - 3s 197us/sample - loss: 0.6845 - accuracy: 0.5421\n",
            "Epoch 124/150\n",
            "15001/15001 [==============================] - 3s 199us/sample - loss: 0.6841 - accuracy: 0.5469\n",
            "Epoch 125/150\n",
            "15001/15001 [==============================] - 3s 199us/sample - loss: 0.6851 - accuracy: 0.5454\n",
            "Epoch 126/150\n",
            "15001/15001 [==============================] - 3s 199us/sample - loss: 0.6846 - accuracy: 0.5499\n",
            "Epoch 127/150\n",
            "15001/15001 [==============================] - 3s 198us/sample - loss: 0.6839 - accuracy: 0.5494\n",
            "Epoch 128/150\n",
            "15001/15001 [==============================] - 3s 200us/sample - loss: 0.6843 - accuracy: 0.5472\n",
            "Epoch 129/150\n",
            "15001/15001 [==============================] - 3s 199us/sample - loss: 0.6846 - accuracy: 0.5418\n",
            "Epoch 130/150\n",
            "15001/15001 [==============================] - 3s 199us/sample - loss: 0.6841 - accuracy: 0.5497\n",
            "Epoch 131/150\n",
            "15001/15001 [==============================] - 3s 196us/sample - loss: 0.6844 - accuracy: 0.5470\n",
            "Epoch 132/150\n",
            "15001/15001 [==============================] - 3s 200us/sample - loss: 0.6849 - accuracy: 0.5452\n",
            "Epoch 133/150\n",
            "15001/15001 [==============================] - 3s 199us/sample - loss: 0.6850 - accuracy: 0.5441\n",
            "Epoch 134/150\n",
            "15001/15001 [==============================] - 3s 200us/sample - loss: 0.6845 - accuracy: 0.5492\n",
            "Epoch 135/150\n",
            "15001/15001 [==============================] - 3s 202us/sample - loss: 0.6845 - accuracy: 0.5465\n",
            "Epoch 136/150\n",
            "15001/15001 [==============================] - 3s 200us/sample - loss: 0.6845 - accuracy: 0.5490\n",
            "Epoch 137/150\n",
            "15001/15001 [==============================] - 3s 201us/sample - loss: 0.6843 - accuracy: 0.5446\n",
            "Epoch 138/150\n",
            "15001/15001 [==============================] - 3s 199us/sample - loss: 0.6838 - accuracy: 0.5532\n",
            "Epoch 139/150\n",
            "15001/15001 [==============================] - 3s 199us/sample - loss: 0.6842 - accuracy: 0.5452\n",
            "Epoch 140/150\n",
            "15001/15001 [==============================] - 3s 199us/sample - loss: 0.6849 - accuracy: 0.5466\n",
            "Epoch 141/150\n",
            "15001/15001 [==============================] - 3s 198us/sample - loss: 0.6854 - accuracy: 0.5407\n",
            "Epoch 142/150\n",
            "15001/15001 [==============================] - 3s 198us/sample - loss: 0.6852 - accuracy: 0.5463\n",
            "Epoch 143/150\n",
            "15001/15001 [==============================] - 3s 200us/sample - loss: 0.6834 - accuracy: 0.5500\n",
            "Epoch 144/150\n",
            "15001/15001 [==============================] - 3s 198us/sample - loss: 0.6848 - accuracy: 0.5477\n",
            "Epoch 145/150\n",
            "15001/15001 [==============================] - 3s 198us/sample - loss: 0.6842 - accuracy: 0.5448\n",
            "Epoch 146/150\n",
            "15001/15001 [==============================] - 3s 199us/sample - loss: 0.6840 - accuracy: 0.5470\n",
            "Epoch 147/150\n",
            "15001/15001 [==============================] - 3s 199us/sample - loss: 0.6845 - accuracy: 0.5470\n",
            "Epoch 148/150\n",
            "15001/15001 [==============================] - 3s 198us/sample - loss: 0.6847 - accuracy: 0.5470\n",
            "Epoch 149/150\n",
            "15001/15001 [==============================] - 3s 199us/sample - loss: 0.6840 - accuracy: 0.5464\n",
            "Epoch 150/150\n",
            "15001/15001 [==============================] - 3s 200us/sample - loss: 0.6846 - accuracy: 0.5434\n"
          ],
          "name": "stdout"
        }
      ]
    },
    {
      "cell_type": "code",
      "metadata": {
        "id": "tA7GZpt_KpBF",
        "colab_type": "code",
        "outputId": "61dd4243-3eb0-4daa-f26b-4d3a6d4c4a96",
        "colab": {
          "base_uri": "https://localhost:8080/",
          "height": 51
        }
      },
      "source": [
        "X_test = tf.reshape(X_test, (X_test.shape[0], 128, 128, 1))\n",
        "results = yeast_fly_cnn.evaluate(X_test, y_test, batch_size=128)\n",
        "print(\"Test Loss, Test Accuracy:\", results)"
      ],
      "execution_count": 0,
      "outputs": [
        {
          "output_type": "stream",
          "text": [
            "5000/5000 [==============================] - 1s 104us/sample - loss: 0.6884 - accuracy: 0.5362\n",
            "Test Loss, Test Accuracy: [0.6883846446990967, 0.5362]\n"
          ],
          "name": "stdout"
        }
      ]
    },
    {
      "cell_type": "code",
      "metadata": {
        "id": "MWcrts6jNLbI",
        "colab_type": "code",
        "outputId": "fff20bdb-d97a-4d18-89e1-d7ec9c618d45",
        "colab": {
          "base_uri": "https://localhost:8080/",
          "height": 312
        }
      },
      "source": [
        "val_pred = yeast_fly_cnn.predict(val_test)\n",
        "fpr, tpr, thresh = roc_curve(val_interaction_dataset[\"interaction\"], val_pred.squeeze()[:,1])\n",
        "area_curve = auc(fpr, tpr)\n",
        "\n",
        "plt.figure()\n",
        "plt.plot([0,1],[0,1],'k--')\n",
        "plt.plot(fpr,tpr,label=f'Keras (area={area_curve})')\n",
        "plt.xlabel('FPR')\n",
        "plt.ylabel('TPR')\n",
        "plt.legend(loc='best')\n",
        "plt.title('ROC Curve')\n",
        "plt.show()"
      ],
      "execution_count": 0,
      "outputs": [
        {
          "output_type": "display_data",
          "data": {
            "image/png": "[encoded data removed]",
            "text/plain": [
              "<Figure size 432x288 with 1 Axes>"
            ]
          },
          "metadata": {
            "tags": []
          }
        },
        {
          "output_type": "display_data",
          "data": {
            "text/plain": [
              "<Figure size 432x288 with 0 Axes>"
            ]
          },
          "metadata": {
            "tags": []
          }
        }
      ]
    },
    {
      "cell_type": "code",
      "metadata": {
        "id": "cdMwvawkOBk8",
        "colab_type": "code",
        "colab": {}
      },
      "source": [
        "TRAINING_SIZE = 1000\n",
        "\n",
        "yeast_fly_autoencode_train = tf.keras.preprocessing.sequence.pad_sequences([encode_CT(s) for s in all_proteins['sequence']])\n",
        "yeast_fly_autoencode_train = yeast_fly_autoencode_train[:TRAINING_SIZE]\n",
        "yeast_fly_autoencode_train = yeast_fly_autoencode_train.reshape((yeast_fly_autoencode_train.shape[0], yeast_fly_autoencode_train.shape[1], 1))"
      ],
      "execution_count": 0,
      "outputs": []
    },
    {
      "cell_type": "code",
      "metadata": {
        "id": "FmwkL-TZNRU9",
        "colab_type": "code",
        "outputId": "ad497112-b18a-4baf-b521-d6c01c1f8604",
        "colab": {
          "base_uri": "https://localhost:8080/",
          "height": 68
        }
      },
      "source": [
        "val_autoencoder, val_encoder = build_autoencoders(yeast_fly_autoencode_train.shape[1], yeast_fly_autoencode_train.shape[2], 128)\n",
        "\n",
        "EPOCHS = 5\n",
        "BATCH_SIZE = 32\n",
        "\n",
        "val_autoencoder.fit(yeast_fly_autoencode_train, yeast_fly_autoencode_train,epochs=EPOCHS, batch_size=BATCH_SIZE, verbose=1)"
      ],
      "execution_count": 0,
      "outputs": [
        {
          "output_type": "stream",
          "text": [
            "Train on 1000 samples\n",
            "Epoch 1/5\n",
            "  32/1000 [..............................] - ETA: 1:13:16 - loss: 0.2294"
          ],
          "name": "stdout"
        }
      ]
    },
    {
      "cell_type": "code",
      "metadata": {
        "id": "ra_5eCP3Nkqy",
        "colab_type": "code",
        "colab": {}
      },
      "source": [
        ""
      ],
      "execution_count": 0,
      "outputs": []
    }
  ]
}
